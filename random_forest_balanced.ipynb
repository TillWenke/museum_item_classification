{
 "cells": [
  {
   "cell_type": "markdown",
   "metadata": {},
   "source": [
    "# Imports & Settings\n"
   ]
  },
  {
   "cell_type": "code",
   "execution_count": 1,
   "metadata": {},
   "outputs": [
    {
     "ename": "ModuleNotFoundError",
     "evalue": "No module named 'deep_translator'",
     "output_type": "error",
     "traceback": [
      "\u001b[1;31m---------------------------------------------------------------------------\u001b[0m",
      "\u001b[1;31mModuleNotFoundError\u001b[0m                       Traceback (most recent call last)",
      "Input \u001b[1;32mIn [1]\u001b[0m, in \u001b[0;36m<cell line: 5>\u001b[1;34m()\u001b[0m\n\u001b[0;32m      3\u001b[0m \u001b[38;5;28;01mimport\u001b[39;00m \u001b[38;5;21;01mnumpy\u001b[39;00m \u001b[38;5;28;01mas\u001b[39;00m \u001b[38;5;21;01mnp\u001b[39;00m\n\u001b[0;32m      4\u001b[0m \u001b[38;5;28;01mfrom\u001b[39;00m \u001b[38;5;21;01mmatplotlib\u001b[39;00m \u001b[38;5;28;01mimport\u001b[39;00m pyplot \u001b[38;5;28;01mas\u001b[39;00m plt\n\u001b[1;32m----> 5\u001b[0m \u001b[38;5;28;01mfrom\u001b[39;00m \u001b[38;5;21;01mdeep_translator\u001b[39;00m \u001b[38;5;28;01mimport\u001b[39;00m GoogleTranslator\n\u001b[0;32m      6\u001b[0m \u001b[38;5;28;01mimport\u001b[39;00m \u001b[38;5;21;01mre\u001b[39;00m \n\u001b[0;32m      7\u001b[0m \u001b[38;5;28;01mfrom\u001b[39;00m \u001b[38;5;21;01mmath\u001b[39;00m \u001b[38;5;28;01mimport\u001b[39;00m isnan\n",
      "\u001b[1;31mModuleNotFoundError\u001b[0m: No module named 'deep_translator'"
     ]
    }
   ],
   "source": [
    "# Imports\n",
    "import pandas as pd\n",
    "import numpy as np\n",
    "from matplotlib import pyplot as plt\n",
    "from deep_translator import GoogleTranslator\n",
    "import re \n",
    "from math import isnan\n",
    "import wandb\n",
    "import random\n",
    "from sklearn.ensemble import RandomForestClassifier\n",
    "\n",
    "import xgboost as xgb\n",
    "from xgboost import XGBClassifier\n",
    "# utilities\n",
    "from sklearn.model_selection import train_test_split\n",
    "from sklearn.metrics import roc_auc_score\n",
    "from sklearn.metrics import accuracy_score\n",
    "from sklearn.preprocessing import LabelEncoder\n",
    "\n",
    "pd.set_option(\"display.max_columns\", None)\n",
    "pd.set_option(\"display.max_colwidth\", None)\n",
    "pd.set_option('display.max_rows', None)\n",
    "pd.set_option('display.max_seq_items', None)"
   ]
  },
  {
   "cell_type": "code",
   "execution_count": 2,
   "metadata": {},
   "outputs": [],
   "source": [
    "# dtype={'type': str} prevents being confused with data type for large data sets\n",
    "train = pd.read_csv('data/train.csv', index_col='id', dtype={'type': str})\n",
    "test = pd.read_csv('data/test.csv', index_col='id', dtype={'type': str})\n",
    "train_translated = pd.read_csv('data/train_translated.csv', dtype={'type': str})\n",
    "test_translated = pd.read_csv('data/test_translated.csv', index_col='id', dtype={'type': str})\n",
    "combined_data = pd.read_csv('data/combined_data.csv', index_col='id', dtype={'type': str})\n",
    "combined_data_translated = pd.read_csv('data/combined_data_translated.csv', index_col='id', dtype={'type': str})\n",
    "combined_data_fully_translated = pd.read_csv('data/combined_data_fully_translated.csv', index_col='id', dtype={'type': str})\n",
    "prep = pd.read_csv('data/prep.csv', index_col='id', dtype={'type': str})\n",
    "test_prep = pd.read_csv('data/test_prepared.csv', index_col='id', dtype={'type': str})\n",
    "train_prep = pd.read_csv('data/train_prepared.csv', index_col='id', dtype={'type': str})\n",
    "train_prepROS = pd.read_csv('data/train_prepROS.csv')\n",
    "train_prepSMOTE = pd.read_csv('data/train_prepSMOTE.csv')\n"
   ]
  },
  {
   "cell_type": "markdown",
   "metadata": {},
   "source": [
    "# setup data for classifier"
   ]
  },
  {
   "cell_type": "code",
   "execution_count": 7,
   "metadata": {},
   "outputs": [],
   "source": [
    "data = train_prepSMOTE.copy()\n",
    "data.drop(columns=['Unnamed: 0'], inplace=True, axis = 1)\n",
    "\n",
    "features = data.drop('type', axis=1)\n",
    "labels = data.type\n",
    "# at least xgboost cannot deal with string labels\n",
    "#label_encoder = LabelEncoder()\n",
    "#label_encoder = label_encoder.fit(labels)\n",
    "#labels = label_encoder.transform(labels)\n",
    "\n",
    "X_train, X_test, y_train, y_test = train_test_split(features, labels, test_size=0.3, random_state=0)\n"
   ]
  },
  {
   "cell_type": "markdown",
   "metadata": {},
   "source": [
    "# setup rf classifier"
   ]
  },
  {
   "cell_type": "code",
   "execution_count": 4,
   "metadata": {},
   "outputs": [
    {
     "ename": "NameError",
     "evalue": "name 'RandomForestClassifier' is not defined",
     "output_type": "error",
     "traceback": [
      "\u001b[1;31m---------------------------------------------------------------------------\u001b[0m",
      "\u001b[1;31mNameError\u001b[0m                                 Traceback (most recent call last)",
      "Input \u001b[1;32mIn [4]\u001b[0m, in \u001b[0;36m<cell line: 1>\u001b[1;34m()\u001b[0m\n\u001b[1;32m----> 1\u001b[0m rfc \u001b[38;5;241m=\u001b[39m \u001b[43mRandomForestClassifier\u001b[49m(n_estimators\u001b[38;5;241m=\u001b[39m\u001b[38;5;241m1000\u001b[39m)\n\u001b[0;32m      2\u001b[0m rfc\u001b[38;5;241m.\u001b[39mfit(features, labels)\n",
      "\u001b[1;31mNameError\u001b[0m: name 'RandomForestClassifier' is not defined"
     ]
    }
   ],
   "source": [
    "rfc = RandomForestClassifier(n_estimators=1000)\n",
    "rfc.fit(features, labels)\n",
    "\n",
    "#y_pred = rfc.predict(X_test)\n",
    "#probs = rfc.predict_proba(X_test)\n",
    "#val_acc = accuracy_score(y_test, y_pred)\n",
    "\n",
    "#y_pred = rfc.predict(X_train)\n",
    "#probs = rfc.predict_proba(X_train)\n",
    "#train_acc = accuracy_score(y_train, y_pred)\n",
    "\n",
    "#print(train_acc, val_acc)"
   ]
  },
  {
   "cell_type": "markdown",
   "metadata": {},
   "source": [
    "# sweep"
   ]
  },
  {
   "cell_type": "code",
   "execution_count": 14,
   "metadata": {},
   "outputs": [
    {
     "name": "stdout",
     "output_type": "stream",
     "text": [
      "Requirement already satisfied: wandb in c:\\users\\flori\\miniconda3\\lib\\site-packages (0.13.6)\n",
      "Requirement already satisfied: Click!=8.0.0,>=7.0 in c:\\users\\flori\\miniconda3\\lib\\site-packages (from wandb) (8.1.3)\n",
      "Requirement already satisfied: psutil>=5.0.0 in c:\\users\\flori\\miniconda3\\lib\\site-packages (from wandb) (5.9.0)\n",
      "Requirement already satisfied: PyYAML in c:\\users\\flori\\miniconda3\\lib\\site-packages (from wandb) (6.0)\n",
      "Requirement already satisfied: setproctitle in c:\\users\\flori\\miniconda3\\lib\\site-packages (from wandb) (1.3.2)\n",
      "Requirement already satisfied: GitPython>=1.0.0 in c:\\users\\flori\\miniconda3\\lib\\site-packages (from wandb) (3.1.29)\n",
      "Requirement already satisfied: pathtools in c:\\users\\flori\\miniconda3\\lib\\site-packages (from wandb) (0.1.2)\n",
      "Requirement already satisfied: setuptools in c:\\users\\flori\\miniconda3\\lib\\site-packages (from wandb) (65.5.0)\n",
      "Requirement already satisfied: docker-pycreds>=0.4.0 in c:\\users\\flori\\miniconda3\\lib\\site-packages (from wandb) (0.4.0)\n",
      "Requirement already satisfied: shortuuid>=0.5.0 in c:\\users\\flori\\miniconda3\\lib\\site-packages (from wandb) (1.0.11)\n",
      "Requirement already satisfied: promise<3,>=2.0 in c:\\users\\flori\\miniconda3\\lib\\site-packages (from wandb) (2.3)\n",
      "Requirement already satisfied: protobuf!=4.21.0,<5,>=3.19.0 in c:\\users\\flori\\miniconda3\\lib\\site-packages (from wandb) (3.19.6)\n",
      "Requirement already satisfied: sentry-sdk>=1.0.0 in c:\\users\\flori\\miniconda3\\lib\\site-packages (from wandb) (1.11.1)\n",
      "Requirement already satisfied: requests<3,>=2.0.0 in c:\\users\\flori\\miniconda3\\lib\\site-packages (from wandb) (2.28.1)\n",
      "Requirement already satisfied: colorama in c:\\users\\flori\\miniconda3\\lib\\site-packages (from Click!=8.0.0,>=7.0->wandb) (0.4.5)\n",
      "Requirement already satisfied: six>=1.4.0 in c:\\users\\flori\\miniconda3\\lib\\site-packages (from docker-pycreds>=0.4.0->wandb) (1.16.0)\n",
      "Requirement already satisfied: gitdb<5,>=4.0.1 in c:\\users\\flori\\miniconda3\\lib\\site-packages (from GitPython>=1.0.0->wandb) (4.0.10)\n",
      "Requirement already satisfied: charset-normalizer<3,>=2 in c:\\users\\flori\\miniconda3\\lib\\site-packages (from requests<3,>=2.0.0->wandb) (2.0.4)\n",
      "Requirement already satisfied: certifi>=2017.4.17 in c:\\users\\flori\\miniconda3\\lib\\site-packages (from requests<3,>=2.0.0->wandb) (2022.9.24)\n",
      "Requirement already satisfied: urllib3<1.27,>=1.21.1 in c:\\users\\flori\\miniconda3\\lib\\site-packages (from requests<3,>=2.0.0->wandb) (1.26.12)\n",
      "Requirement already satisfied: idna<4,>=2.5 in c:\\users\\flori\\miniconda3\\lib\\site-packages (from requests<3,>=2.0.0->wandb) (3.4)\n",
      "Requirement already satisfied: smmap<6,>=3.0.1 in c:\\users\\flori\\miniconda3\\lib\\site-packages (from gitdb<5,>=4.0.1->GitPython>=1.0.0->wandb) (5.0.0)\n"
     ]
    },
    {
     "ename": "AttributeError",
     "evalue": "module 'wandb' has no attribute 'login'",
     "output_type": "error",
     "traceback": [
      "\u001b[1;31m---------------------------------------------------------------------------\u001b[0m",
      "\u001b[1;31mAttributeError\u001b[0m                            Traceback (most recent call last)",
      "Cell \u001b[1;32mIn [14], line 3\u001b[0m\n\u001b[0;32m      1\u001b[0m get_ipython()\u001b[39m.\u001b[39msystem(\u001b[39m'\u001b[39m\u001b[39mpip install wandb\u001b[39m\u001b[39m'\u001b[39m)\n\u001b[0;32m      2\u001b[0m \u001b[39mimport\u001b[39;00m \u001b[39mwandb\u001b[39;00m\n\u001b[1;32m----> 3\u001b[0m wandb\u001b[39m.\u001b[39;49mlogin()\n",
      "\u001b[1;31mAttributeError\u001b[0m: module 'wandb' has no attribute 'login'"
     ]
    }
   ],
   "source": [
    "#!pip install wandb\n",
    "#import wandb\n",
    "#wandb.login()"
   ]
  },
  {
   "cell_type": "code",
   "execution_count": 12,
   "metadata": {},
   "outputs": [
    {
     "ename": "AttributeError",
     "evalue": "module 'wandb' has no attribute 'sweep'",
     "output_type": "error",
     "traceback": [
      "\u001b[1;31m---------------------------------------------------------------------------\u001b[0m",
      "\u001b[1;31mAttributeError\u001b[0m                            Traceback (most recent call last)",
      "Cell \u001b[1;32mIn [12], line 33\u001b[0m\n\u001b[0;32m     31\u001b[0m project \u001b[39m=\u001b[39m \u001b[39m'\u001b[39m\u001b[39mrf\u001b[39m\u001b[39m'\u001b[39m\n\u001b[0;32m     32\u001b[0m \u001b[39m# Initialize sweep by passing in config. (Optional) Provide a name of the project.\u001b[39;00m\n\u001b[1;32m---> 33\u001b[0m sweep_id \u001b[39m=\u001b[39m wandb\u001b[39m.\u001b[39;49msweep(sweep\u001b[39m=\u001b[39msweep_configuration, project\u001b[39m=\u001b[39mproject)\n\u001b[0;32m     35\u001b[0m \u001b[39mdef\u001b[39;00m \u001b[39mmain\u001b[39m():\n\u001b[0;32m     36\u001b[0m     run \u001b[39m=\u001b[39m wandb\u001b[39m.\u001b[39minit(project\u001b[39m=\u001b[39mproject)\n",
      "\u001b[1;31mAttributeError\u001b[0m: module 'wandb' has no attribute 'sweep'"
     ]
    }
   ],
   "source": [
    "# Imports\n",
    "import pandas as pd\n",
    "import numpy as np\n",
    "from matplotlib import pyplot as plt\n",
    "from deep_translator import GoogleTranslator\n",
    "import re \n",
    "from math import isnan\n",
    "import wandb\n",
    "import random\n",
    "from sklearn.ensemble import RandomForestClassifier\n",
    "from sklearn.model_selection import train_test_split\n",
    "from sklearn.metrics import roc_auc_score\n",
    "from sklearn.metrics import accuracy_score\n",
    "\n",
    "# Define sweep config\n",
    "sweep_configuration = {\n",
    "    'method': 'bayes',\n",
    "    'name': 'sweep',\n",
    "    'metric': {'goal': 'maximize', 'name': 'val_acc'},\n",
    "    'parameters': \n",
    "    {\n",
    "        'split': {'values': [2, 5, 10, 100]},\n",
    "        'depth': {'values': [3, 6, 10, 50, 100, 1000]},\n",
    "        'leaf': {'values': [2, 6, 10, 50]},\n",
    "        'estimators': {'values': [200, 500, 1000, 2000]},\n",
    "        'features': {'values': [None, 'sqrt', 'log2']},\n",
    "\n",
    "     }\n",
    "}\n",
    "\n",
    "project = 'rf'\n",
    "# Initialize sweep by passing in config. (Optional) Provide a name of the project.\n",
    "sweep_id = wandb.sweep(sweep=sweep_configuration, project=project)\n",
    "\n",
    "def main():\n",
    "    run = wandb.init(project=project)\n",
    "\n",
    "    # note that we define values from `wandb.config` instead \n",
    "    # of defining hard values \n",
    "    split = wandb.config.split\n",
    "    depth = wandb.config.depth\n",
    "    leaf = wandb.config.leaf\n",
    "    estimators = wandb.config.estimators\n",
    "    feat = wandb.config.features\n",
    "    \n",
    "\n",
    "    # -------------------------- usual training code starts here  -------------------------------------\n",
    "    \n",
    "    rfc = RandomForestClassifier(n_estimators=estimators, max_depth=depth, min_samples_leaf=leaf, max_features=feat, min_samples_split=split, random_state=42)\n",
    "    rfc.fit(X_train, y_train)\n",
    "\n",
    "    y_pred = rfc.predict(X_test)\n",
    "    val_acc = accuracy_score(y_test, y_pred)\n",
    "    \n",
    "    y_pred = rfc.predict(X_train)\n",
    "    train_acc = accuracy_score(y_train, y_pred)\n",
    "\n",
    "    print(train_acc, val_acc)\n",
    "\n",
    "    # -------------------------- ends here  -------------------------------------\n",
    "    \n",
    "\n",
    "    wandb.log({\n",
    "      'train_acc': train_acc,\n",
    "      'val_acc': val_acc,\n",
    "    })\n",
    "\n",
    "# Start sweep job.\n",
    "wandb.agent(sweep_id, function=main)"
   ]
  },
  {
   "cell_type": "markdown",
   "metadata": {},
   "source": [
    "# save model"
   ]
  },
  {
   "cell_type": "code",
   "execution_count": 5,
   "metadata": {},
   "outputs": [],
   "source": [
    "import pickle\n",
    "pickle.dump(rfc, open('./models/rf/rf_full_SMOTE', 'wb'))\n",
    "loaded_model = pickle.load(open('./models/rf/rf_full_SMOTE', 'rb'))"
   ]
  },
  {
   "cell_type": "markdown",
   "metadata": {},
   "source": [
    "# submission from model"
   ]
  },
  {
   "cell_type": "code",
   "execution_count": 6,
   "metadata": {},
   "outputs": [],
   "source": [
    "test_set = test_prep.drop('type', axis=1)"
   ]
  },
  {
   "cell_type": "code",
   "execution_count": 7,
   "metadata": {},
   "outputs": [],
   "source": [
    "results = rfc.predict(test_set)"
   ]
  },
  {
   "cell_type": "code",
   "execution_count": 8,
   "metadata": {},
   "outputs": [],
   "source": [
    "submission = pd.DataFrame({'id': test_set.index ,'type': rfc.predict(test_set)})"
   ]
  },
  {
   "cell_type": "code",
   "execution_count": 9,
   "metadata": {},
   "outputs": [],
   "source": [
    "type_lookup = pd.read_csv('data/type_lookup.csv')"
   ]
  },
  {
   "cell_type": "code",
   "execution_count": 10,
   "metadata": {},
   "outputs": [],
   "source": [
    "submission = submission.replace(type_lookup.id.to_list(), type_lookup.estonian.to_list())"
   ]
  },
  {
   "cell_type": "code",
   "execution_count": 11,
   "metadata": {},
   "outputs": [],
   "source": [
    "submission.to_csv('submissions/submission_rf_full_SMOTE.csv', index=False)"
   ]
  }
 ],
 "metadata": {
  "kernelspec": {
   "display_name": "Python 3 (ipykernel)",
   "language": "python",
   "name": "python3"
  },
  "language_info": {
   "codemirror_mode": {
    "name": "ipython",
    "version": 3
   },
   "file_extension": ".py",
   "mimetype": "text/x-python",
   "name": "python",
   "nbconvert_exporter": "python",
   "pygments_lexer": "ipython3",
   "version": "3.9.7"
  },
  "vscode": {
   "interpreter": {
    "hash": "7e5fc957e2145bdb6dcd6f004ae476467743f40bdc9351c87f25ceab537debc6"
   }
  }
 },
 "nbformat": 4,
 "nbformat_minor": 2
}
