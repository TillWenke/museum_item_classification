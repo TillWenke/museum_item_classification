{
 "cells": [
  {
   "cell_type": "code",
   "execution_count": 1,
   "metadata": {},
   "outputs": [],
   "source": [
    "from setup_general import *"
   ]
  },
  {
   "attachments": {},
   "cell_type": "markdown",
   "metadata": {},
   "source": [
    "# Rebalancing\n",
    "\n",
    "In this notebook we focus on rebalancing our data, as it is very imbalanced originally. First, we used RandomOverSampler, which randomly copies instances. Then we also used the SMOTE-algorithm, which fabricates new instances that are close to other instances in the dataset.\n",
    "In the end, new .cvs-files were created to include the rebalanced data to be used in other notebooks."
   ]
  },
  {
   "cell_type": "code",
   "execution_count": 2,
   "metadata": {},
   "outputs": [],
   "source": [
    "data = train_est_prepared.copy()\n",
    "x = data.drop(['type'], axis=1)\n",
    "y = data.type.astype(\"category\")\n",
    "# ROS cannot deal with string labels\n",
    "label_encoder = LabelEncoder()\n",
    "label_encoder = label_encoder.fit(y)\n",
    "y = label_encoder.transform(y)"
   ]
  },
  {
   "cell_type": "code",
   "execution_count": 3,
   "metadata": {},
   "outputs": [],
   "source": [
    "#function to have resamplers resample to specific number of samples per class\n",
    "def by_num(data, min_samples):\n",
    "    b = Counter(y).values()\n",
    "    a = Counter(y).keys()\n",
    "    a = list(a)\n",
    "    b = list(b)\n",
    "\n",
    "    if min_samples > max(b):\n",
    "        min_samples = max(b)\n",
    "\n",
    "    for i in range(len(a)):\n",
    "        if b[i] < min_samples :\n",
    "            b[i] = min_samples\n",
    "    return dict(zip(a, b))\n",
    "\n",
    "#function to have resamplers resample to specific number of samples per class\n",
    "def by_perc(data, increase_perc):\n",
    "    a = Counter(y).keys()\n",
    "    b = Counter(y).values()\n",
    "    a = list(a)\n",
    "    b = list(b)\n",
    "\n",
    "    max_samples = max(b)\n",
    "\n",
    "    for i in range(len(b)):\n",
    "        new_samples = int(b[i] * (1 + increase_perc/100))\n",
    "        if new_samples > max_samples:\n",
    "            b[i] = max_samples\n",
    "        else:\n",
    "            b[i] = new_samples\n",
    "    return dict(zip(a, b))"
   ]
  },
  {
   "cell_type": "markdown",
   "metadata": {},
   "source": [
    "# SMOTE"
   ]
  },
  {
   "cell_type": "code",
   "execution_count": 4,
   "metadata": {},
   "outputs": [
    {
     "name": "stderr",
     "output_type": "stream",
     "text": [
      "/home/till/.local/lib/python3.10/site-packages/imblearn/utils/_validation.py:586: FutureWarning: Pass sampling_strategy=minority as keyword args. From version 0.9 passing these as positional arguments will result in an error\n",
      "  warnings.warn(\n"
     ]
    }
   ],
   "source": [
    "from imblearn.over_sampling import SMOTE\n",
    "balancer = SMOTE('minority', k_neighbors=3,random_state=1)\n",
    "X_resSMOTE, y_resSMOTE = balancer.fit_resample(x, y)\n",
    "dataSMOTE = X_resSMOTE.copy()\n",
    "dataSMOTE['type'] = y_resSMOTE"
   ]
  },
  {
   "attachments": {},
   "cell_type": "markdown",
   "metadata": {},
   "source": [
    "# save"
   ]
  },
  {
   "cell_type": "code",
   "execution_count": 13,
   "metadata": {},
   "outputs": [],
   "source": [
    "dataSMOTE['type'] = dataSMOTE['type'].replace(type_lookup.id.to_list(), type_lookup.english.to_list())\n",
    "dataSMOTE['id'] = dataSMOTE.index\n",
    "dataSMOTE.set_index('id', inplace=True)\n",
    "dataSMOTE.to_csv('data/prepared_ready/train_est_smote_03.csv', index=True)"
   ]
  },
  {
   "cell_type": "code",
   "execution_count": 9,
   "metadata": {},
   "outputs": [
    {
     "data": {
      "text/plain": [
       "photo                                           2680\n",
       "photo negative                                  1516\n",
       "design/drawing/sketch                            567\n",
       "plan                                             558\n",
       "archaeological find                              549\n",
       "poster                                           537\n",
       "letter                                           434\n",
       "book                                             366\n",
       "document                                         325\n",
       "manuscript                                       316\n",
       "graphics                                         163\n",
       "music sheet                                      149\n",
       "script, song/vocal music                         141\n",
       "coin                                             140\n",
       "seal/imprint                                     133\n",
       "digital image                                    130\n",
       "postcard                                         108\n",
       "small print                                       80\n",
       "magazines                                         71\n",
       "invitation                                        63\n",
       "newspaper                                         61\n",
       "medal                                             58\n",
       "audio recording                                   54\n",
       "telegram                                          46\n",
       "slide                                             42\n",
       "manuscript, musical composition                   41\n",
       "calendar                                          33\n",
       "label/sign                                        33\n",
       "photographic material                             31\n",
       "drawing                                           29\n",
       "photo, postcard                                   29\n",
       "letter of honor/honorary address                  22\n",
       "musical instrument                                21\n",
       "caricature                                        20\n",
       "paper                                             18\n",
       "seal                                              17\n",
       "photographic negative, photographic negative      17\n",
       "country                                           16\n",
       "printed notes                                     15\n",
       "suit                                              15\n",
       "crate/box                                         14\n",
       "dish/vessel                                       14\n",
       "folder/booklet                                    13\n",
       "sheet/linen                                       13\n",
       "album                                             12\n",
       "manuscript, sheet music                           12\n",
       "jewel                                             12\n",
       "notes                                             11\n",
       "tape/ribbon                                       10\n",
       "bag                                               10\n",
       "sculpture                                          9\n",
       "packaging                                          9\n",
       "certificate                                        8\n",
       "letter, postcard                                   5\n",
       "doll                                               4\n",
       "Name: type, dtype: int64"
      ]
     },
     "execution_count": 9,
     "metadata": {},
     "output_type": "execute_result"
    }
   ],
   "source": [
    "data.type.value_counts()"
   ]
  },
  {
   "attachments": {},
   "cell_type": "markdown",
   "metadata": {},
   "source": [
    "# ros\n"
   ]
  },
  {
   "cell_type": "code",
   "execution_count": 15,
   "metadata": {},
   "outputs": [
    {
     "name": "stdout",
     "output_type": "stream",
     "text": [
      "[2680, 1516, 537, 149, 61, 316, 558, 434, 549, 71, 80, 29, 163, 41, 140, 15, 133, 366, 325, 130, 567, 63, 141, 58, 13, 18, 42, 54, 108, 46, 17, 21, 22, 33, 4, 33, 17, 31, 15, 14, 29, 10, 9, 9, 10, 12, 14, 20, 12, 11, 16, 8, 5, 13, 12] 2680\n"
     ]
    }
   ],
   "source": [
    "from imblearn.over_sampling import RandomOverSampler\n",
    "balancer = RandomOverSampler(sampling_strategy=by_perc(y,100), random_state=0)\n",
    "X_resSMOTE, y_resSMOTE = balancer.fit_resample(x, y)\n",
    "dataSMOTE = X_resSMOTE.copy()\n",
    "dataSMOTE['type'] = y_resSMOTE"
   ]
  },
  {
   "cell_type": "code",
   "execution_count": 16,
   "metadata": {},
   "outputs": [
    {
     "data": {
      "text/plain": [
       "type\n",
       "37    2680\n",
       "36    2680\n",
       "11    1134\n",
       "41    1116\n",
       "1     1098\n",
       "43    1074\n",
       "22     868\n",
       "4      732\n",
       "14     650\n",
       "26     632\n",
       "18     326\n",
       "30     298\n",
       "45     282\n",
       "8      280\n",
       "48     266\n",
       "12     260\n",
       "42     216\n",
       "51     160\n",
       "25     142\n",
       "19     126\n",
       "32     122\n",
       "29     116\n",
       "2      108\n",
       "54      92\n",
       "50      84\n",
       "27      82\n",
       "21      66\n",
       "5       66\n",
       "39      62\n",
       "16      58\n",
       "38      58\n",
       "23      44\n",
       "31      42\n",
       "6       40\n",
       "35      36\n",
       "47      34\n",
       "40      34\n",
       "9       32\n",
       "44      30\n",
       "52      30\n",
       "13      28\n",
       "10      28\n",
       "49      26\n",
       "17      26\n",
       "0       24\n",
       "20      24\n",
       "28      24\n",
       "33      22\n",
       "3       20\n",
       "53      20\n",
       "46      18\n",
       "34      18\n",
       "7       16\n",
       "24      10\n",
       "15       8\n",
       "dtype: int64"
      ]
     },
     "execution_count": 16,
     "metadata": {},
     "output_type": "execute_result"
    }
   ],
   "source": [
    "dataSMOTE.value_counts('type')"
   ]
  },
  {
   "cell_type": "code",
   "execution_count": 5,
   "metadata": {},
   "outputs": [],
   "source": [
    "dataSMOTE['type'] = dataSMOTE['type'].replace(type_lookup.id.to_list(), type_lookup.english.to_list())\n",
    "dataSMOTE['id'] = dataSMOTE.index\n",
    "dataSMOTE.set_index('id', inplace=True)\n",
    "dataSMOTE.to_csv('data/prepared_ready/train_est_smote_03.csv', index=True)"
   ]
  },
  {
   "attachments": {},
   "cell_type": "markdown",
   "metadata": {},
   "source": [
    "# rus"
   ]
  },
  {
   "cell_type": "code",
   "execution_count": 3,
   "metadata": {},
   "outputs": [
    {
     "name": "stderr",
     "output_type": "stream",
     "text": [
      "/home/till/.local/lib/python3.10/site-packages/imblearn/utils/_validation.py:586: FutureWarning: Pass sampling_strategy=majority as keyword args. From version 0.9 passing these as positional arguments will result in an error\n",
      "  warnings.warn(\n"
     ]
    }
   ],
   "source": [
    "from imblearn.under_sampling import RandomUnderSampler\n",
    "balancer = RandomUnderSampler('majority', random_state=0)\n",
    "X_resSMOTE, y_resSMOTE = balancer.fit_resample(x, y)\n",
    "dataSMOTE = X_resSMOTE.copy()\n",
    "dataSMOTE['type'] = y_resSMOTE"
   ]
  },
  {
   "cell_type": "code",
   "execution_count": null,
   "metadata": {},
   "outputs": [],
   "source": [
    "dataSMOTE['type'] = dataSMOTE['type'].replace(type_lookup.id.to_list(), type_lookup.english.to_list())\n",
    "dataSMOTE['id'] = dataSMOTE.index\n",
    "dataSMOTE.set_index('id', inplace=True)\n",
    "dataSMOTE.to_csv('data/prepared_ready/train_est_smote_03.csv', index=True)"
   ]
  }
 ],
 "metadata": {
  "kernelspec": {
   "display_name": "Python 3",
   "language": "python",
   "name": "python3"
  },
  "language_info": {
   "codemirror_mode": {
    "name": "ipython",
    "version": 3
   },
   "file_extension": ".py",
   "mimetype": "text/x-python",
   "name": "python",
   "nbconvert_exporter": "python",
   "pygments_lexer": "ipython3",
   "version": "3.10.6 (main, Nov 14 2022, 16:10:14) [GCC 11.3.0]"
  },
  "orig_nbformat": 4,
  "vscode": {
   "interpreter": {
    "hash": "916dbcbb3f70747c44a77c7bcd40155683ae19c65e1c03b4aa3499c5328201f1"
   }
  }
 },
 "nbformat": 4,
 "nbformat_minor": 2
}
