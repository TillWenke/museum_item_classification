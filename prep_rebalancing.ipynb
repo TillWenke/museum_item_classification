{
 "cells": [
  {
   "cell_type": "code",
   "execution_count": 1,
   "metadata": {},
   "outputs": [
    {
     "name": "stderr",
     "output_type": "stream",
     "text": [
      "/home/till/projects/uni/data science/museum_item_classification/setup_general.py:91: DtypeWarning: Columns (11) have mixed types. Specify dtype option on import or set low_memory=False.\n",
      "  combined_intermediate_ready = pd.read_csv('./data/general/combined_intermediate_ready.csv', index_col='id', dtype={'type': str})\n"
     ]
    }
   ],
   "source": [
    "from setup_general import *"
   ]
  },
  {
   "attachments": {},
   "cell_type": "markdown",
   "metadata": {},
   "source": [
    "# Rebalancing\n",
    "\n",
    "In this notebook we focus on rebalancing our data, as it is very imbalanced originally. First, we used RandomOverSampler, which randomly copies instances. Then we also used the SMOTE-algorithm, which fabricates new instances that are close to other instances in the dataset.\n",
    "In the end, new .cvs-files were created to include the rebalanced data to be used in other notebooks."
   ]
  },
  {
   "cell_type": "code",
   "execution_count": 2,
   "metadata": {},
   "outputs": [],
   "source": [
    "data = train_est_prepared.copy()\n",
    "x = data.drop(['type'], axis=1)\n",
    "y = data.type.astype(\"category\")\n",
    "# ROS cannot deal with string labels\n",
    "label_encoder = LabelEncoder()\n",
    "label_encoder = label_encoder.fit(y)\n",
    "y = label_encoder.transform(y)"
   ]
  },
  {
   "cell_type": "code",
   "execution_count": 3,
   "metadata": {},
   "outputs": [],
   "source": [
    "#function to have resamplers resample to specific number of samples per class\n",
    "def by_num(data, min_samples):\n",
    "    b = Counter(y).values()\n",
    "    a = Counter(y).keys()\n",
    "    a = list(a)\n",
    "    b = list(b)\n",
    "\n",
    "    if min_samples > max(b):\n",
    "        min_samples = max(b)\n",
    "\n",
    "    for i in range(len(a)):\n",
    "        if b[i] < min_samples :\n",
    "            b[i] = min_samples\n",
    "    return dict(zip(a, b))\n",
    "\n",
    "#function to have resamplers resample to specific number of samples per class\n",
    "def by_perc(data, increase_perc):\n",
    "    a = Counter(y).keys()\n",
    "    b = Counter(y).values()\n",
    "    a = list(a)\n",
    "    b = list(b)\n",
    "\n",
    "    max_samples = max(b)\n",
    "\n",
    "    for i in range(len(b)):\n",
    "        new_samples = int(b[i] * (1 + increase_perc/100))\n",
    "        if new_samples > max_samples:\n",
    "            b[i] = max_samples\n",
    "        else:\n",
    "            b[i] = new_samples\n",
    "    return dict(zip(a, b))"
   ]
  },
  {
   "cell_type": "markdown",
   "metadata": {},
   "source": [
    "# SMOTE"
   ]
  },
  {
   "cell_type": "code",
   "execution_count": 4,
   "metadata": {},
   "outputs": [
    {
     "name": "stderr",
     "output_type": "stream",
     "text": [
      "/home/till/.local/lib/python3.10/site-packages/imblearn/utils/_validation.py:586: FutureWarning: Pass sampling_strategy=minority as keyword args. From version 0.9 passing these as positional arguments will result in an error\n",
      "  warnings.warn(\n"
     ]
    }
   ],
   "source": [
    "from imblearn.over_sampling import SMOTE\n",
    "balancer = SMOTE('minority', k_neighbors=3,random_state=1)\n",
    "X_resSMOTE, y_resSMOTE = balancer.fit_resample(x, y)\n",
    "dataSMOTE = X_resSMOTE.copy()\n",
    "dataSMOTE['type'] = y_resSMOTE"
   ]
  },
  {
   "attachments": {},
   "cell_type": "markdown",
   "metadata": {},
   "source": [
    "# save"
   ]
  },
  {
   "cell_type": "code",
   "execution_count": 13,
   "metadata": {},
   "outputs": [],
   "source": [
    "dataSMOTE['type'] = dataSMOTE['type'].replace(type_lookup.id.to_list(), type_lookup.english.to_list())\n",
    "dataSMOTE['id'] = dataSMOTE.index\n",
    "dataSMOTE.set_index('id', inplace=True)\n",
    "dataSMOTE.to_csv('data/prepared_ready/train_est_smote_03.csv', index=True)"
   ]
  },
  {
   "attachments": {},
   "cell_type": "markdown",
   "metadata": {},
   "source": [
    "# ros\n"
   ]
  },
  {
   "cell_type": "code",
   "execution_count": 4,
   "metadata": {},
   "outputs": [],
   "source": [
    "from imblearn.over_sampling import RandomOverSampler\n",
    "balancer = RandomOverSampler(sampling_strategy=by_num(y,500), random_state=0)\n",
    "X_resSMOTE, y_resSMOTE = balancer.fit_resample(x, y)\n",
    "dataSMOTE = X_resSMOTE.copy()\n",
    "dataSMOTE['type'] = y_resSMOTE"
   ]
  },
  {
   "cell_type": "code",
   "execution_count": 5,
   "metadata": {},
   "outputs": [
    {
     "data": {
      "text/plain": [
       "type\n",
       "36    2680\n",
       "37    1516\n",
       "11     567\n",
       "41     558\n",
       "1      549\n",
       "43     537\n",
       "30     500\n",
       "31     500\n",
       "32     500\n",
       "33     500\n",
       "34     500\n",
       "35     500\n",
       "38     500\n",
       "39     500\n",
       "40     500\n",
       "0      500\n",
       "29     500\n",
       "44     500\n",
       "45     500\n",
       "46     500\n",
       "47     500\n",
       "48     500\n",
       "49     500\n",
       "50     500\n",
       "51     500\n",
       "52     500\n",
       "53     500\n",
       "42     500\n",
       "27     500\n",
       "28     500\n",
       "26     500\n",
       "2      500\n",
       "3      500\n",
       "4      500\n",
       "5      500\n",
       "6      500\n",
       "7      500\n",
       "8      500\n",
       "9      500\n",
       "10     500\n",
       "12     500\n",
       "13     500\n",
       "14     500\n",
       "15     500\n",
       "16     500\n",
       "17     500\n",
       "18     500\n",
       "19     500\n",
       "20     500\n",
       "21     500\n",
       "22     500\n",
       "23     500\n",
       "24     500\n",
       "25     500\n",
       "54     500\n",
       "dtype: int64"
      ]
     },
     "execution_count": 5,
     "metadata": {},
     "output_type": "execute_result"
    }
   ],
   "source": [
    "dataSMOTE.value_counts('type')"
   ]
  },
  {
   "cell_type": "code",
   "execution_count": 5,
   "metadata": {},
   "outputs": [],
   "source": [
    "dataSMOTE['type'] = dataSMOTE['type'].replace(type_lookup.id.to_list(), type_lookup.english.to_list())\n",
    "dataSMOTE['id'] = dataSMOTE.index\n",
    "dataSMOTE.set_index('id', inplace=True)\n",
    "dataSMOTE.to_csv('data/prepared_ready/train_est_smote_03.csv', index=True)"
   ]
  },
  {
   "attachments": {},
   "cell_type": "markdown",
   "metadata": {},
   "source": [
    "# rus"
   ]
  },
  {
   "cell_type": "code",
   "execution_count": 3,
   "metadata": {},
   "outputs": [
    {
     "name": "stderr",
     "output_type": "stream",
     "text": [
      "/home/till/.local/lib/python3.10/site-packages/imblearn/utils/_validation.py:586: FutureWarning: Pass sampling_strategy=majority as keyword args. From version 0.9 passing these as positional arguments will result in an error\n",
      "  warnings.warn(\n"
     ]
    }
   ],
   "source": [
    "from imblearn.under_sampling import RandomUnderSampler\n",
    "balancer = RandomUnderSampler('majority', random_state=0)\n",
    "X_resSMOTE, y_resSMOTE = balancer.fit_resample(x, y)\n",
    "dataSMOTE = X_resSMOTE.copy()\n",
    "dataSMOTE['type'] = y_resSMOTE"
   ]
  },
  {
   "cell_type": "code",
   "execution_count": null,
   "metadata": {},
   "outputs": [],
   "source": [
    "dataSMOTE['type'] = dataSMOTE['type'].replace(type_lookup.id.to_list(), type_lookup.english.to_list())\n",
    "dataSMOTE['id'] = dataSMOTE.index\n",
    "dataSMOTE.set_index('id', inplace=True)\n",
    "dataSMOTE.to_csv('data/prepared_ready/train_est_smote_03.csv', index=True)"
   ]
  }
 ],
 "metadata": {
  "kernelspec": {
   "display_name": "Python 3",
   "language": "python",
   "name": "python3"
  },
  "language_info": {
   "codemirror_mode": {
    "name": "ipython",
    "version": 3
   },
   "file_extension": ".py",
   "mimetype": "text/x-python",
   "name": "python",
   "nbconvert_exporter": "python",
   "pygments_lexer": "ipython3",
   "version": "3.10.6 (main, Nov 14 2022, 16:10:14) [GCC 11.3.0]"
  },
  "orig_nbformat": 4,
  "vscode": {
   "interpreter": {
    "hash": "916dbcbb3f70747c44a77c7bcd40155683ae19c65e1c03b4aa3499c5328201f1"
   }
  }
 },
 "nbformat": 4,
 "nbformat_minor": 2
}
