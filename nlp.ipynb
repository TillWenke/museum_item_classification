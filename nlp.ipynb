{
 "cells": [
  {
   "cell_type": "markdown",
   "metadata": {},
   "source": [
    "# Imports & Settings\n"
   ]
  },
  {
   "cell_type": "code",
   "execution_count": 1,
   "metadata": {},
   "outputs": [],
   "source": [
    "# Imports\n",
    "import pandas as pd\n",
    "import numpy as np\n",
    "from matplotlib import pyplot as plt\n",
    "from deep_translator import GoogleTranslator\n",
    "import re \n",
    "from math import isnan\n",
    "\n",
    "pd.set_option(\"display.max_columns\", None)\n",
    "pd.set_option(\"display.max_colwidth\", None)\n",
    "pd.set_option('display.max_rows', None)\n",
    "pd.set_option('display.max_seq_items', None)"
   ]
  },
  {
   "cell_type": "code",
   "execution_count": 4,
   "metadata": {},
   "outputs": [
    {
     "name": "stderr",
     "output_type": "stream",
     "text": [
      "/tmp/ipykernel_9627/1699356385.py:9: DtypeWarning: Columns (13,266) have mixed types. Specify dtype option on import or set low_memory=False.\n",
      "  prep = pd.read_csv('data/prep.csv', index_col='id', dtype={'type': str})\n"
     ]
    }
   ],
   "source": [
    "# dtype={'type': str} prevents being confused with data type for large data sets\n",
    "train = pd.read_csv('data/train.csv', index_col='id', dtype={'type': str})\n",
    "test = pd.read_csv('data/test.csv', index_col='id', dtype={'type': str})\n",
    "train_translated = pd.read_csv('data/train_translated.csv', dtype={'type': str})\n",
    "test_translated = pd.read_csv('data/test_translated.csv', index_col='id', dtype={'type': str})\n",
    "combined_data = pd.read_csv('data/combined_data.csv', index_col='id', dtype={'type': str})\n",
    "combined_data_translated = pd.read_csv('data/combined_data_translated.csv', index_col='id', dtype={'type': str})\n",
    "combined_data_fully_translated = pd.read_csv('data/combined_data_fully_translated.csv', index_col='id', dtype={'type': str})\n",
    "prep = pd.read_csv('data/prep.csv', index_col='id', dtype={'type': str})"
   ]
  },
  {
   "cell_type": "markdown",
   "metadata": {},
   "source": [
    "# Preparation"
   ]
  },
  {
   "cell_type": "code",
   "execution_count": 106,
   "metadata": {},
   "outputs": [],
   "source": [
    "data = prep.copy()"
   ]
  },
  {
   "cell_type": "code",
   "execution_count": 42,
   "metadata": {},
   "outputs": [],
   "source": [
    "text_features = ['name', 'commentary', 'text', 'legend', 'initial_info', 'additional_text']"
   ]
  },
  {
   "cell_type": "code",
   "execution_count": 107,
   "metadata": {},
   "outputs": [],
   "source": [
    "data[text_features] = data[text_features].fillna('')"
   ]
  },
  {
   "cell_type": "code",
   "execution_count": 91,
   "metadata": {},
   "outputs": [],
   "source": [
    "def collect_text(item):\n",
    "    return ' '.join(item[text_features]).strip()"
   ]
  },
  {
   "cell_type": "code",
   "execution_count": 109,
   "metadata": {},
   "outputs": [],
   "source": [
    "data['text_features'] = data.apply(lambda item: collect_text(item),axis=1)"
   ]
  },
  {
   "cell_type": "code",
   "execution_count": 138,
   "metadata": {},
   "outputs": [
    {
     "data": {
      "text/html": [
       "<div>\n",
       "<style scoped>\n",
       "    .dataframe tbody tr th:only-of-type {\n",
       "        vertical-align: middle;\n",
       "    }\n",
       "\n",
       "    .dataframe tbody tr th {\n",
       "        vertical-align: top;\n",
       "    }\n",
       "\n",
       "    .dataframe thead th {\n",
       "        text-align: right;\n",
       "    }\n",
       "</style>\n",
       "<table border=\"1\" class=\"dataframe\">\n",
       "  <thead>\n",
       "    <tr style=\"text-align: right;\">\n",
       "      <th></th>\n",
       "      <th>name</th>\n",
       "      <th>commentary</th>\n",
       "      <th>text</th>\n",
       "      <th>legend</th>\n",
       "      <th>initial_info</th>\n",
       "      <th>additional_text</th>\n",
       "      <th>text_features</th>\n",
       "    </tr>\n",
       "    <tr>\n",
       "      <th>id</th>\n",
       "      <th></th>\n",
       "      <th></th>\n",
       "      <th></th>\n",
       "      <th></th>\n",
       "      <th></th>\n",
       "      <th></th>\n",
       "      <th></th>\n",
       "    </tr>\n",
       "  </thead>\n",
       "  <tbody>\n",
       "    <tr>\n",
       "      <th>232170</th>\n",
       "      <td>Kuno Areng, Bremerhaven Festwoche medal</td>\n",
       "      <td>NaN</td>\n",
       "      <td>NaN</td>\n",
       "      <td>NaN</td>\n",
       "      <td>Festwoche - Breemenhaven</td>\n",
       "      <td>KUTTER ASTARTE -SCHIFFERGILDE BREMENHAVEN E.V.</td>\n",
       "      <td>Kuno Areng, Bremerhaven Festwoche medal    Festwoche - Breemenhaven KUTTER ASTARTE -SCHIFFERGILDE BREMENHAVEN E.V.</td>\n",
       "    </tr>\n",
       "    <tr>\n",
       "      <th>2251378</th>\n",
       "      <td>Photo-Villem Kapp, photo with dedication to Armilde M, 1937</td>\n",
       "      <td>NaN</td>\n",
       "      <td>NaN</td>\n",
       "      <td>Photos from the collection of Villem Kapi and Juhan Aavik\\ndesse, purchased in 2013</td>\n",
       "      <td>NaN</td>\n",
       "      <td>NaN</td>\n",
       "      <td>Photo-Villem Kapp, photo with dedication to Armilde M, 1937   Photos from the collection of Villem Kapi and Juhan Aavik\\ndesse, purchased in 2013</td>\n",
       "    </tr>\n",
       "  </tbody>\n",
       "</table>\n",
       "</div>"
      ],
      "text/plain": [
       "                                                                name  \\\n",
       "id                                                                     \n",
       "232170                       Kuno Areng, Bremerhaven Festwoche medal   \n",
       "2251378  Photo-Villem Kapp, photo with dedication to Armilde M, 1937   \n",
       "\n",
       "        commentary text  \\\n",
       "id                        \n",
       "232170         NaN  NaN   \n",
       "2251378        NaN  NaN   \n",
       "\n",
       "                                                                                      legend  \\\n",
       "id                                                                                             \n",
       "232170                                                                                   NaN   \n",
       "2251378  Photos from the collection of Villem Kapi and Juhan Aavik\\ndesse, purchased in 2013   \n",
       "\n",
       "                     initial_info  \\\n",
       "id                                  \n",
       "232170   Festwoche - Breemenhaven   \n",
       "2251378                       NaN   \n",
       "\n",
       "                                        additional_text  \\\n",
       "id                                                        \n",
       "232170   KUTTER ASTARTE -SCHIFFERGILDE BREMENHAVEN E.V.   \n",
       "2251378                                             NaN   \n",
       "\n",
       "                                                                                                                                             text_features  \n",
       "id                                                                                                                                                          \n",
       "232170                                  Kuno Areng, Bremerhaven Festwoche medal    Festwoche - Breemenhaven KUTTER ASTARTE -SCHIFFERGILDE BREMENHAVEN E.V.  \n",
       "2251378  Photo-Villem Kapp, photo with dedication to Armilde M, 1937   Photos from the collection of Villem Kapi and Juhan Aavik\\ndesse, purchased in 2013  "
      ]
     },
     "execution_count": 138,
     "metadata": {},
     "output_type": "execute_result"
    }
   ],
   "source": [
    "data[['name', 'commentary', 'text', 'legend', 'initial_info', 'additional_text', 'text_features']].head(2)"
   ]
  },
  {
   "cell_type": "code",
   "execution_count": 111,
   "metadata": {},
   "outputs": [],
   "source": [
    "data.to_csv('data/prep.csv')"
   ]
  },
  {
   "cell_type": "code",
   "execution_count": null,
   "metadata": {},
   "outputs": [],
   "source": [
    "data = prep.copy()\n",
    "with_damages = combined_data_fully_translated.copy()"
   ]
  },
  {
   "cell_type": "code",
   "execution_count": null,
   "metadata": {},
   "outputs": [],
   "source": [
    "data.text_features = data.text_features.replace(float('nan'), ' ',)\n",
    "with_damages.damages = with_damages.damages.replace(float('nan'), ' ',)\n",
    "\n",
    "data.text_features = data.text_features + ' ' + with_damages.damages"
   ]
  },
  {
   "cell_type": "code",
   "execution_count": null,
   "metadata": {},
   "outputs": [],
   "source": [
    "data.to_csv('data/prep.csv')"
   ]
  },
  {
   "cell_type": "code",
   "execution_count": null,
   "metadata": {},
   "outputs": [],
   "source": [
    "data = prep.copy()"
   ]
  },
  {
   "cell_type": "code",
   "execution_count": null,
   "metadata": {},
   "outputs": [],
   "source": [
    "text = data[['text_features','type']]"
   ]
  },
  {
   "cell_type": "code",
   "execution_count": null,
   "metadata": {},
   "outputs": [],
   "source": [
    "text.to_csv('data/text.csv')"
   ]
  },
  {
   "cell_type": "markdown",
   "metadata": {},
   "source": [
    "# check for type contained in texts"
   ]
  },
  {
   "cell_type": "code",
   "execution_count": 4,
   "metadata": {},
   "outputs": [],
   "source": [
    "data = prep.copy()"
   ]
  },
  {
   "cell_type": "code",
   "execution_count": 123,
   "metadata": {},
   "outputs": [
    {
     "name": "stdout",
     "output_type": "stream",
     "text": [
      "<class 'pandas.core.series.Series'>\n",
      "Int64Index: 20000 entries, 232170 to 2781747\n",
      "Series name: text_features\n",
      "Non-Null Count  Dtype \n",
      "--------------  ----- \n",
      "14900 non-null  object\n",
      "dtypes: object(1)\n",
      "memory usage: 312.5+ KB\n"
     ]
    }
   ],
   "source": [
    "prep.text_features.info()"
   ]
  },
  {
   "cell_type": "code",
   "execution_count": 5,
   "metadata": {},
   "outputs": [
    {
     "data": {
      "text/plain": [
       "array(['medal', 'photo', 'photo negative', 'a letter', 'coin',\n",
       "       'label/sign', 'script, song/vocal music', 'sheet music', 'slide',\n",
       "       'archaeological find', 'book', 'plan', 'postcard', 'there/imprint',\n",
       "       'poster', 'design/drawing/sketch', 'audio recording', 'manuscript',\n",
       "       'document', 'caricature', 'graphics', 'telegram',\n",
       "       'manuscript, musical composition', 'notes', 'in small print',\n",
       "       'invitation', 'packaging', 'paper', 'manuscript, sheet music',\n",
       "       'magazines', 'album', 'in the country', 'digital image',\n",
       "       'photo, postcard', 'photographic material', 'drawing', 'crate/box',\n",
       "       'letter of honor/honorary address', 'calendar', 'tape/ribbon',\n",
       "       'bag', 'newspaper', 'dish/vessel', 'musical instrument',\n",
       "       'letter, postcard', 'sculpture', 'printed notes', 'there',\n",
       "       'a suit', 'certificate', 'sheet/linen', 'folder/booklet', 'jewel',\n",
       "       'doll', 'photographic negative, photographic negative'],\n",
       "      dtype=object)"
      ]
     },
     "execution_count": 5,
     "metadata": {},
     "output_type": "execute_result"
    }
   ],
   "source": [
    "types = data.type.unique()\n",
    "# remove nan\n",
    "types = types[:-1]\n",
    "types"
   ]
  },
  {
   "cell_type": "code",
   "execution_count": 136,
   "metadata": {},
   "outputs": [],
   "source": [
    "data.text_features = data.text_features.replace(float('nan'), '')"
   ]
  },
  {
   "cell_type": "code",
   "execution_count": 163,
   "metadata": {},
   "outputs": [
    {
     "name": "stdout",
     "output_type": "stream",
     "text": [
      "multiple types in text - one type in text - one type and true type in text\n",
      "483 1642 954\n"
     ]
    }
   ],
   "source": [
    "multi_counter = 0\n",
    "one_counter = 0\n",
    "true_counter = 0\n",
    "for i, item in data.iterrows():\n",
    "    if item.source == 'train':\n",
    "        local_counter = 0\n",
    "        pred = []\n",
    "        for type in types:            \n",
    "            if type in item.text_features:\n",
    "                local_counter += 1\n",
    "                pred.append(type)                \n",
    "\n",
    "        if local_counter > 1:\n",
    "            multi_counter += 1\n",
    "        if local_counter == 1:\n",
    "            one_counter += 1\n",
    "            if pred[0] == item.type:           \n",
    "                true_counter += 1\n",
    "            else:\n",
    "                #print(pred, item.type) \n",
    "                pass\n",
    "\n",
    "print('multiple types in text - one type in text - one type and true type in text')\n",
    "print(multi_counter, one_counter, true_counter)\n",
    "# from 14900 texts"
   ]
  }
 ],
 "metadata": {
  "kernelspec": {
   "display_name": "Python 3.10.6 64-bit",
   "language": "python",
   "name": "python3"
  },
  "language_info": {
   "codemirror_mode": {
    "name": "ipython",
    "version": 3
   },
   "file_extension": ".py",
   "mimetype": "text/x-python",
   "name": "python",
   "nbconvert_exporter": "python",
   "pygments_lexer": "ipython3",
   "version": "3.10.6"
  },
  "orig_nbformat": 4,
  "vscode": {
   "interpreter": {
    "hash": "916dbcbb3f70747c44a77c7bcd40155683ae19c65e1c03b4aa3499c5328201f1"
   }
  }
 },
 "nbformat": 4,
 "nbformat_minor": 2
}
