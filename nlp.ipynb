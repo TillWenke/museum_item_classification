{
 "cells": [
  {
   "cell_type": "markdown",
   "metadata": {},
   "source": [
    "# Imports & Settings\n"
   ]
  },
  {
   "cell_type": "code",
   "execution_count": 2,
   "metadata": {},
   "outputs": [],
   "source": [
    "# Imports\n",
    "import pandas as pd\n",
    "import numpy as np\n",
    "from matplotlib import pyplot as plt\n",
    "from deep_translator import GoogleTranslator\n",
    "import re \n",
    "from math import isnan\n",
    "\n",
    "pd.set_option(\"display.max_columns\", None)\n",
    "pd.set_option(\"display.max_colwidth\", None)\n",
    "pd.set_option('display.max_rows', None)\n",
    "pd.set_option('display.max_seq_items', None)"
   ]
  },
  {
   "cell_type": "code",
   "execution_count": 3,
   "metadata": {},
   "outputs": [
    {
     "name": "stderr",
     "output_type": "stream",
     "text": [
      "/tmp/ipykernel_25152/1699356385.py:9: DtypeWarning: Columns (13,266) have mixed types. Specify dtype option on import or set low_memory=False.\n",
      "  prep = pd.read_csv('data/prep.csv', index_col='id', dtype={'type': str})\n"
     ]
    }
   ],
   "source": [
    "# dtype={'type': str} prevents being confused with data type for large data sets\n",
    "train = pd.read_csv('data/train.csv', index_col='id', dtype={'type': str})\n",
    "test = pd.read_csv('data/test.csv', index_col='id', dtype={'type': str})\n",
    "train_translated = pd.read_csv('data/train_translated.csv', dtype={'type': str})\n",
    "test_translated = pd.read_csv('data/test_translated.csv', index_col='id', dtype={'type': str})\n",
    "combined_data = pd.read_csv('data/combined_data.csv', index_col='id', dtype={'type': str})\n",
    "combined_data_translated = pd.read_csv('data/combined_data_translated.csv', index_col='id', dtype={'type': str})\n",
    "combined_data_fully_translated = pd.read_csv('data/combined_data_fully_translated.csv', index_col='id', dtype={'type': str})\n",
    "prep = pd.read_csv('data/prep.csv', index_col='id', dtype={'type': str})"
   ]
  },
  {
   "cell_type": "markdown",
   "metadata": {},
   "source": [
    "# Preparation"
   ]
  },
  {
   "cell_type": "code",
   "execution_count": 4,
   "metadata": {},
   "outputs": [],
   "source": [
    "data = prep.copy()"
   ]
  },
  {
   "cell_type": "code",
   "execution_count": 6,
   "metadata": {},
   "outputs": [],
   "source": [
    "text_features = ['name', 'commentary', 'text', 'legend', 'initial_info', 'additional_text']"
   ]
  },
  {
   "cell_type": "code",
   "execution_count": 7,
   "metadata": {},
   "outputs": [],
   "source": [
    "data[text_features] = data[text_features].fillna('')"
   ]
  },
  {
   "cell_type": "code",
   "execution_count": 9,
   "metadata": {},
   "outputs": [],
   "source": [
    "def collect_text(item):\n",
    "    return ' '.join(item[text_features])"
   ]
  },
  {
   "cell_type": "code",
   "execution_count": 10,
   "metadata": {},
   "outputs": [],
   "source": [
    "data['text_features'] = data.apply(lambda item: collect_text(item),axis=1)"
   ]
  },
  {
   "cell_type": "code",
   "execution_count": 15,
   "metadata": {},
   "outputs": [
    {
     "data": {
      "text/html": [
       "<div>\n",
       "<style scoped>\n",
       "    .dataframe tbody tr th:only-of-type {\n",
       "        vertical-align: middle;\n",
       "    }\n",
       "\n",
       "    .dataframe tbody tr th {\n",
       "        vertical-align: top;\n",
       "    }\n",
       "\n",
       "    .dataframe thead th {\n",
       "        text-align: right;\n",
       "    }\n",
       "</style>\n",
       "<table border=\"1\" class=\"dataframe\">\n",
       "  <thead>\n",
       "    <tr style=\"text-align: right;\">\n",
       "      <th></th>\n",
       "      <th>name</th>\n",
       "      <th>commentary</th>\n",
       "      <th>text</th>\n",
       "      <th>legend</th>\n",
       "      <th>initial_info</th>\n",
       "      <th>additional_text</th>\n",
       "      <th>text_features</th>\n",
       "    </tr>\n",
       "    <tr>\n",
       "      <th>id</th>\n",
       "      <th></th>\n",
       "      <th></th>\n",
       "      <th></th>\n",
       "      <th></th>\n",
       "      <th></th>\n",
       "      <th></th>\n",
       "      <th></th>\n",
       "    </tr>\n",
       "  </thead>\n",
       "  <tbody>\n",
       "    <tr>\n",
       "      <th>232170</th>\n",
       "      <td>Kuno Areng, Bremerhaven Festwoche medal</td>\n",
       "      <td></td>\n",
       "      <td></td>\n",
       "      <td></td>\n",
       "      <td>Festwoche - Breemenhaven</td>\n",
       "      <td>KUTTER ASTARTE -SCHIFFERGILDE BREMENHAVEN E.V.</td>\n",
       "      <td>Kuno Areng, Bremerhaven Festwoche medal    Festwoche - Breemenhaven KUTTER ASTARTE -SCHIFFERGILDE BREMENHAVEN E.V.</td>\n",
       "    </tr>\n",
       "    <tr>\n",
       "      <th>2251378</th>\n",
       "      <td>Photo-Villem Kapp, photo with dedication to Armilde M, 1937</td>\n",
       "      <td></td>\n",
       "      <td></td>\n",
       "      <td>Photos from the collection of Villem Kapi and Juhan Aavik\\ndesse, purchased in 2013</td>\n",
       "      <td></td>\n",
       "      <td></td>\n",
       "      <td>Photo-Villem Kapp, photo with dedication to Armilde M, 1937   Photos from the collection of Villem Kapi and Juhan Aavik\\ndesse, purchased in 2013</td>\n",
       "    </tr>\n",
       "    <tr>\n",
       "      <th>2070466</th>\n",
       "      <td></td>\n",
       "      <td></td>\n",
       "      <td></td>\n",
       "      <td></td>\n",
       "      <td></td>\n",
       "      <td></td>\n",
       "      <td></td>\n",
       "    </tr>\n",
       "    <tr>\n",
       "      <th>4085096</th>\n",
       "      <td>Metspart, Youth Theater, 1969, in parts: Hedvig - Mari Lill, Gina - Silvia Laidla</td>\n",
       "      <td></td>\n",
       "      <td></td>\n",
       "      <td></td>\n",
       "      <td>TB080321</td>\n",
       "      <td></td>\n",
       "      <td>Metspart, Youth Theater, 1969, in parts: Hedvig - Mari Lill, Gina - Silvia Laidla    TB080321</td>\n",
       "    </tr>\n",
       "    <tr>\n",
       "      <th>2697904</th>\n",
       "      <td>Letter: Folk musicians: Violin: Jüri Saal: Letter to A. Pulst: 16.02.1936</td>\n",
       "      <td></td>\n",
       "      <td></td>\n",
       "      <td>Folk instrumentalists Mo238</td>\n",
       "      <td></td>\n",
       "      <td></td>\n",
       "      <td>Letter: Folk musicians: Violin: Jüri Saal: Letter to A. Pulst: 16.02.1936   Folk instrumentalists Mo238</td>\n",
       "    </tr>\n",
       "  </tbody>\n",
       "</table>\n",
       "</div>"
      ],
      "text/plain": [
       "                                                                                      name  \\\n",
       "id                                                                                           \n",
       "232170                                             Kuno Areng, Bremerhaven Festwoche medal   \n",
       "2251378                        Photo-Villem Kapp, photo with dedication to Armilde M, 1937   \n",
       "2070466                                                                                      \n",
       "4085096  Metspart, Youth Theater, 1969, in parts: Hedvig - Mari Lill, Gina - Silvia Laidla   \n",
       "2697904          Letter: Folk musicians: Violin: Jüri Saal: Letter to A. Pulst: 16.02.1936   \n",
       "\n",
       "        commentary text  \\\n",
       "id                        \n",
       "232170                    \n",
       "2251378                   \n",
       "2070466                   \n",
       "4085096                   \n",
       "2697904                   \n",
       "\n",
       "                                                                                      legend  \\\n",
       "id                                                                                             \n",
       "232170                                                                                         \n",
       "2251378  Photos from the collection of Villem Kapi and Juhan Aavik\\ndesse, purchased in 2013   \n",
       "2070466                                                                                        \n",
       "4085096                                                                                        \n",
       "2697904                                                          Folk instrumentalists Mo238   \n",
       "\n",
       "                     initial_info  \\\n",
       "id                                  \n",
       "232170   Festwoche - Breemenhaven   \n",
       "2251378                             \n",
       "2070466                             \n",
       "4085096                  TB080321   \n",
       "2697904                             \n",
       "\n",
       "                                        additional_text  \\\n",
       "id                                                        \n",
       "232170   KUTTER ASTARTE -SCHIFFERGILDE BREMENHAVEN E.V.   \n",
       "2251378                                                   \n",
       "2070466                                                   \n",
       "4085096                                                   \n",
       "2697904                                                   \n",
       "\n",
       "                                                                                                                                               text_features  \n",
       "id                                                                                                                                                            \n",
       "232170                                    Kuno Areng, Bremerhaven Festwoche medal    Festwoche - Breemenhaven KUTTER ASTARTE -SCHIFFERGILDE BREMENHAVEN E.V.  \n",
       "2251378  Photo-Villem Kapp, photo with dedication to Armilde M, 1937   Photos from the collection of Villem Kapi and Juhan Aavik\\ndesse, purchased in 2013    \n",
       "2070466                                                                                                                                                       \n",
       "4085096                                                       Metspart, Youth Theater, 1969, in parts: Hedvig - Mari Lill, Gina - Silvia Laidla    TB080321   \n",
       "2697904                                            Letter: Folk musicians: Violin: Jüri Saal: Letter to A. Pulst: 16.02.1936   Folk instrumentalists Mo238    "
      ]
     },
     "execution_count": 15,
     "metadata": {},
     "output_type": "execute_result"
    }
   ],
   "source": [
    "data[['name', 'commentary', 'text', 'legend', 'initial_info', 'additional_text', 'text_features']].head()"
   ]
  },
  {
   "cell_type": "code",
   "execution_count": 16,
   "metadata": {},
   "outputs": [],
   "source": [
    "data.to_csv('data/prep.csv')"
   ]
  },
  {
   "cell_type": "code",
   "execution_count": null,
   "metadata": {},
   "outputs": [],
   "source": []
  },
  {
   "cell_type": "code",
   "execution_count": null,
   "metadata": {},
   "outputs": [],
   "source": []
  },
  {
   "cell_type": "code",
   "execution_count": null,
   "metadata": {},
   "outputs": [],
   "source": []
  },
  {
   "cell_type": "code",
   "execution_count": null,
   "metadata": {},
   "outputs": [],
   "source": []
  },
  {
   "cell_type": "code",
   "execution_count": null,
   "metadata": {},
   "outputs": [],
   "source": []
  },
  {
   "cell_type": "code",
   "execution_count": null,
   "metadata": {},
   "outputs": [],
   "source": []
  }
 ],
 "metadata": {
  "kernelspec": {
   "display_name": "Python 3.10.6 64-bit",
   "language": "python",
   "name": "python3"
  },
  "language_info": {
   "codemirror_mode": {
    "name": "ipython",
    "version": 3
   },
   "file_extension": ".py",
   "mimetype": "text/x-python",
   "name": "python",
   "nbconvert_exporter": "python",
   "pygments_lexer": "ipython3",
   "version": "3.10.6"
  },
  "orig_nbformat": 4,
  "vscode": {
   "interpreter": {
    "hash": "916dbcbb3f70747c44a77c7bcd40155683ae19c65e1c03b4aa3499c5328201f1"
   }
  }
 },
 "nbformat": 4,
 "nbformat_minor": 2
}
