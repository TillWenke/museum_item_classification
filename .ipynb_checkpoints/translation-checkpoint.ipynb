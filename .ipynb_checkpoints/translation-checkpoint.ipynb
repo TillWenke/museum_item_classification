{
 "cells": [
  {
   "cell_type": "markdown",
   "metadata": {},
   "source": [
    "# Imports & Settings\n"
   ]
  },
  {
   "cell_type": "code",
   "execution_count": 1,
   "metadata": {},
   "outputs": [],
   "source": [
    "# Imports\n",
    "import pandas as pd\n",
    "import numpy as np\n",
    "from matplotlib import pyplot as plt\n",
    "from deep_translator import GoogleTranslator\n",
    "import re \n",
    "\n",
    "pd.set_option(\"display.max_columns\", None)\n",
    "pd.set_option(\"display.max_colwidth\", None)\n",
    "pd.set_option('display.max_rows', None)\n",
    "pd.set_option('display.max_seq_items', None)"
   ]
  },
  {
   "cell_type": "code",
   "execution_count": 2,
   "metadata": {},
   "outputs": [],
   "source": [
    "# dtype={'type': str} prevents being confused with data type for large data sets\n",
    "train = pd.read_csv('data/train.csv', index_col='id', dtype={'type': str})\n",
    "test = pd.read_csv('data/test.csv', index_col='id', dtype={'type': str})\n",
    "train_translated = pd.read_csv('data/train_translated.csv', dtype={'type': str})\n",
    "test_translated = pd.read_csv('data/test_translated.csv', index_col='id', dtype={'type': str})\n",
    "combined_data = pd.read_csv('data/combined_data.csv', index_col='id', dtype={'type': str})\n",
    "combined_data_translated = pd.read_csv('data/combined_data_translated.csv', index_col='id', dtype={'type': str})\n",
    "combined_data_fully_translated = pd.read_csv('data/combined_data_fully_translated.csv', index_col='id', dtype={'type': str})\n",
    "prep = pd.read_csv('data/prep.csv', index_col='id', dtype={'type': str})"
   ]
  },
  {
   "cell_type": "markdown",
   "id": "77e374c8",
   "metadata": {},
   "source": [
    "# Translation\n"
   ]
  },
  {
   "cell_type": "code",
   "execution_count": 3,
   "id": "fe732728",
   "metadata": {},
   "outputs": [],
   "source": [
    "# sophisticated approach for translation\n",
    "def translate(data, column):\n",
    "    original = data[column].dropna().unique()\n",
    "    original_no_num = [item for item in original if not item.isnumeric()] # in some columns there are numbers as str that cant be translated\n",
    "    translated = [GoogleTranslator(source='et', target='en').translate(word) for word in original_no_num]\n",
    "    data[column] = data[column].replace(original_no_num, translated)"
   ]
  },
  {
   "cell_type": "code",
   "execution_count": 4,
   "id": "51866af3",
   "metadata": {},
   "outputs": [],
   "source": [
    "# use: array of column names. replace which data set is to be used and what file is written\n",
    "# eg: # train: 'material', 'name', 'commentary', 'event_type', 'location', 'country_and_unit', 'participants_role', 'text', 'class', 'technique', 'parameter', 'legend',  'damages', 'color', 'type', 'initial_info', 'additional_text', 'state', 'before_Christ'\n",
    "\n",
    "def translate_columns(columnns):\n",
    "    for column in columnns:\n",
    "        translate(prep, column)\n",
    "        print(column, 'done')\n",
    "        prep.to_csv('data/prep.csv')"
   ]
  },
  {
   "cell_type": "code",
   "execution_count": 10,
   "metadata": {},
   "outputs": [
    {
     "name": "stdout",
     "output_type": "stream",
     "text": [
      "done\n",
      "unit done\n"
     ]
    }
   ],
   "source": [
    "#translate_columns(['unit'])"
   ]
  },
  {
   "cell_type": "code",
   "execution_count": null,
   "id": "5cd67e35",
   "metadata": {},
   "outputs": [],
   "source": [
    "def has_cyrillic(text):\n",
    "    return bool(re.search('[а-яА-Я]', text))"
   ]
  },
  {
   "cell_type": "code",
   "execution_count": null,
   "id": "97a340f6",
   "metadata": {},
   "outputs": [
    {
     "data": {
      "text/plain": [
       "set()"
      ]
     },
     "metadata": {},
     "output_type": "display_data"
    }
   ],
   "source": [
    "# estonian to english translation already translates some of the russian cells but no all\n",
    "# find the columns that have russian text\n",
    "cyrillic_columns = set()\n",
    "\n",
    "dataset = combined_data_translated\n",
    "\n",
    "for column in dataset.select_dtypes(include=object).columns:\n",
    "    for word in dataset[column].dropna().unique():\n",
    "        if has_cyrillic(word):\n",
    "            cyrillic_columns.add(column)\n",
    "\n",
    "cyrillic_columns"
   ]
  },
  {
   "cell_type": "code",
   "execution_count": null,
   "id": "dda97b66",
   "metadata": {},
   "outputs": [],
   "source": [
    "# translate cyrillic text to english\n",
    "for column in combined_data_translated.select_dtypes(include=object).columns:\n",
    "    for word in combined_data_translated[column].dropna().unique():\n",
    "        if has_cyrillic(word):\n",
    "            translation = GoogleTranslator(source='ru', target='en').translate(str(word))\n",
    "            combined_data_translated[column] = combined_data_translated[column].replace(word, translation)"
   ]
  }
 ],
 "metadata": {
  "kernelspec": {
   "display_name": "Python 3 (ipykernel)",
   "language": "python",
   "name": "python3"
  },
  "language_info": {
   "codemirror_mode": {
    "name": "ipython",
    "version": 3
   },
   "file_extension": ".py",
   "mimetype": "text/x-python",
   "name": "python",
   "nbconvert_exporter": "python",
   "pygments_lexer": "ipython3",
   "version": "3.9.7"
  },
  "vscode": {
   "interpreter": {
    "hash": "916dbcbb3f70747c44a77c7bcd40155683ae19c65e1c03b4aa3499c5328201f1"
   }
  }
 },
 "nbformat": 4,
 "nbformat_minor": 2
}
