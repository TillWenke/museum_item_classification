{
 "cells": [
  {
   "cell_type": "code",
   "execution_count": null,
   "metadata": {},
   "outputs": [],
   "source": [
    "from setup_general import *"
   ]
  },
  {
   "attachments": {},
   "cell_type": "markdown",
   "metadata": {},
   "source": [
    "# necessary for the xg-classifier(and other models) - type mapping"
   ]
  },
  {
   "cell_type": "code",
   "execution_count": null,
   "metadata": {},
   "outputs": [],
   "source": [
    "estonian = train.type.unique()\n",
    "english = train_prep.type.unique()\n",
    "type_lookup = pd.DataFrame({'estonian': estonian, 'english': english})\n",
    "type_lookup = type_lookup.sort_values(by='english')\n",
    "type_lookup.reset_index(drop=True, inplace=True)\n",
    "type_lookup['id'] = type_lookup.index\n",
    "type_lookup.to_csv('data/type_lookup.csv')"
   ]
  },
  {
   "attachments": {},
   "cell_type": "markdown",
   "metadata": {},
   "source": [
    "# rename for xgboost (cant deal with <>[] in feature names)"
   ]
  },
  {
   "cell_type": "code",
   "execution_count": null,
   "metadata": {},
   "outputs": [],
   "source": [
    "data = high.copy()\n",
    "data.rename(columns={'location_määramata [Narva-Jõesuu]':'location_määramata (Narva-Jõesuu)', 'location_määramata [Tallinn]':'location_määramata (Tallinn)', 'location_määramata [Tartu]':'location_määramata (Tartu)', 'location_määramata [Raplamaa]':'location_määramata (Raplamaa)'}, inplace=True)\n",
    "data.to_csv('data/prep_high_thres.csv')"
   ]
  },
  {
   "cell_type": "code",
   "execution_count": null,
   "metadata": {},
   "outputs": [],
   "source": [
    "data = low.copy()\n",
    "\n",
    "for i in data.columns:\n",
    "    if '>' in i:\n",
    "        data.rename(columns={i:i.replace('>','')}, inplace=True)\n",
    "for i in data.columns:\n",
    "    if '<' in i:\n",
    "        data.rename(columns={i:i.replace('<','')}, inplace=True)\n",
    "\n",
    "data.to_csv('data/prep_low_thres.csv')"
   ]
  }
 ],
 "metadata": {
  "language_info": {
   "name": "python"
  },
  "orig_nbformat": 4
 },
 "nbformat": 4,
 "nbformat_minor": 2
}
