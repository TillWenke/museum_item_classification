{
 "cells": [
  {
   "cell_type": "code",
   "execution_count": 1,
   "metadata": {},
   "outputs": [
    {
     "name": "stderr",
     "output_type": "stream",
     "text": [
      "/home/till/projects/uni/data science/museum_item_classification/setup_general.py:93: DtypeWarning: Columns (11) have mixed types. Specify dtype option on import or set low_memory=False.\n",
      "  combined_intermediate_ready = pd.read_csv('./data/general/combined_intermediate_ready.csv', index_col='id', dtype={'type': str})\n"
     ]
    }
   ],
   "source": [
    "from setup_general import *\n",
    "from setup_embedding import *"
   ]
  },
  {
   "attachments": {},
   "cell_type": "markdown",
   "metadata": {},
   "source": [
    "# remove unneeded cols"
   ]
  },
  {
   "cell_type": "code",
   "execution_count": null,
   "metadata": {},
   "outputs": [],
   "source": [
    "data = curie.copy()\n",
    "data.drop(columns=['text_features'], inplace=True)\n",
    "data.set_index('id', inplace=True)\n",
    "split = pd.DataFrame(data.curie_similarity.tolist(), index=data.index)\n",
    "concat = pd.concat([data, split], axis=1)\n",
    "concat.drop(columns=['curie_similarity'], inplace=True)\n",
    "concat.to_csv('data/text_embeddings/curie.csv')"
   ]
  },
  {
   "attachments": {},
   "cell_type": "markdown",
   "metadata": {},
   "source": [
    "# train val split - embedding\n"
   ]
  },
  {
   "cell_type": "code",
   "execution_count": null,
   "metadata": {},
   "outputs": [],
   "source": [
    "train = train_est_prepared.copy()\n",
    "val = val_est_prepared.copy()\n",
    "trainval_curie = curie[curie.source == 'train'].drop(columns=['source'])\n",
    "test_curie = curie[curie.source == 'test'].drop(columns=['source'])\n",
    "\n",
    "train_curie = pd.DataFrame.join(train[['element_count']], trainval_curie)\n",
    "train_curie.dropna(axis=0, inplace=True)\n",
    "train_curie.drop(columns=['element_count'], inplace=True)\n",
    "print(len(train_curie))\n",
    "val_curie = pd.DataFrame.join(val[['element_count']], trainval_curie)\n",
    "val_curie.dropna(axis=0, inplace=True)\n",
    "val_curie.drop(columns=['element_count'], inplace=True)\n",
    "print(len(val_curie))\n",
    "\n",
    "train_curie.to_csv('data/text_embeddings/train_curie.csv', index_label='id')\n",
    "val_curie.to_csv('data/text_embeddings/val_curie.csv', index_label='id')\n",
    "test_curie.to_csv('data/text_embeddings/test_curie.csv', index_label='id')"
   ]
  },
  {
   "attachments": {},
   "cell_type": "markdown",
   "metadata": {},
   "source": [
    "# bag of words & train val split\n"
   ]
  },
  {
   "cell_type": "code",
   "execution_count": 7,
   "metadata": {},
   "outputs": [
    {
     "name": "stderr",
     "output_type": "stream",
     "text": [
      "/home/till/.local/lib/python3.10/site-packages/sklearn/utils/deprecation.py:87: FutureWarning: Function get_feature_names is deprecated; get_feature_names is deprecated in 1.0 and will be removed in 1.2. Please use get_feature_names_out instead.\n",
      "  warnings.warn(msg, category=FutureWarning)\n"
     ]
    },
    {
     "name": "stdout",
     "output_type": "stream",
     "text": [
      "4000\n",
      "7284\n",
      "3166\n"
     ]
    }
   ],
   "source": [
    "min_gram = 1\n",
    "max_gram = 2\n",
    "max_features = 4000\n",
    "\n",
    "CountVec = TfidfVectorizer(ngram_range=(min_gram,max_gram), stop_words='english', max_features=max_features)\n",
    "# to use bigrams ngram_range=(2,2)\n",
    "Count_data = CountVec.fit_transform(text.text_features)\n",
    "\n",
    "#create dataframe\n",
    "bow=pd.DataFrame(Count_data.toarray(),columns=CountVec.get_feature_names())\n",
    "\n",
    "bow = bow.add_prefix('word_')\n",
    "bow.index = text.index\n",
    "bow = bow.join(text[['source', 'type']])\n",
    "\n",
    "train = train_est_prepared.copy()\n",
    "val = val_est_prepared.copy()\n",
    "trainval_bow = bow[bow.source == 'train'].drop(columns=['source'])\n",
    "test_bow = bow[bow.source == 'test'].drop(columns=['source'])\n",
    "\n",
    "train_bow = pd.DataFrame.join(train[['element_count']], trainval_bow)\n",
    "train_bow.dropna(axis=0, inplace=True)\n",
    "train_bow.drop(columns=['element_count'], inplace=True)\n",
    "print(len(train_bow))\n",
    "val_bow = pd.DataFrame.join(val[['element_count']], trainval_bow)\n",
    "val_bow.dropna(axis=0, inplace=True)\n",
    "val_bow.drop(columns=['element_count'], inplace=True)\n",
    "print(len(val_bow))\n",
    "\n",
    "train_bow.to_csv('data/text_embeddings/train_bow.csv', index_label='id')\n",
    "val_bow.to_csv('data/text_embeddings/val_bow.csv', index_label='id')\n",
    "test_bow.to_csv('data/text_embeddings/test_bow.csv', index_label='id')"
   ]
  }
 ],
 "metadata": {
  "kernelspec": {
   "display_name": "Python 3",
   "language": "python",
   "name": "python3"
  },
  "language_info": {
   "codemirror_mode": {
    "name": "ipython",
    "version": 3
   },
   "file_extension": ".py",
   "mimetype": "text/x-python",
   "name": "python",
   "nbconvert_exporter": "python",
   "pygments_lexer": "ipython3",
   "version": "3.10.6 (main, Nov 14 2022, 16:10:14) [GCC 11.3.0]"
  },
  "orig_nbformat": 4,
  "vscode": {
   "interpreter": {
    "hash": "916dbcbb3f70747c44a77c7bcd40155683ae19c65e1c03b4aa3499c5328201f1"
   }
  }
 },
 "nbformat": 4,
 "nbformat_minor": 2
}
