{
 "cells": [
  {
   "cell_type": "code",
   "execution_count": null,
   "metadata": {},
   "outputs": [],
   "source": [
    "from setup_general import *\n",
    "from setup_embedding import *"
   ]
  },
  {
   "cell_type": "code",
   "execution_count": null,
   "metadata": {},
   "outputs": [],
   "source": [
    "data = curie.copy()\n",
    "data.drop(columns=['text_features'], inplace=True)\n",
    "data.set_index('id', inplace=True)\n",
    "split = pd.DataFrame(data.curie_similarity.tolist(), index=data.index)\n",
    "concat = pd.concat([data, split], axis=1)\n",
    "concat.drop(columns=['curie_similarity'], inplace=True)\n",
    "concat.to_csv('data/text_embeddings/curie.csv')\n",
    "curie = pd.read_csv('data/text_embeddings/curie.csv', index_col='id', dtype={'type': str})\n",
    "train = curie[curie.source == 'train']\n",
    "test = curie[curie.source == 'test']\n",
    "train.drop(columns=['source'], inplace=True)\n",
    "test.drop(columns=['source'], inplace=True)\n",
    "train.to_csv('data/text_embeddings/train_curie.csv')\n",
    "test.to_csv('data/text_embeddings/test_curie.csv')"
   ]
  }
 ],
 "metadata": {
  "kernelspec": {
   "display_name": "Python 3",
   "language": "python",
   "name": "python3"
  },
  "language_info": {
   "name": "python",
   "version": "3.10.6 (main, Nov 14 2022, 16:10:14) [GCC 11.3.0]"
  },
  "orig_nbformat": 4,
  "vscode": {
   "interpreter": {
    "hash": "916dbcbb3f70747c44a77c7bcd40155683ae19c65e1c03b4aa3499c5328201f1"
   }
  }
 },
 "nbformat": 4,
 "nbformat_minor": 2
}
