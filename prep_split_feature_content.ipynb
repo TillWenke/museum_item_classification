{
 "cells": [
  {
   "cell_type": "code",
   "execution_count": 1,
   "metadata": {},
   "outputs": [],
   "source": [
    "from setup_general import *"
   ]
  },
  {
   "attachments": {},
   "cell_type": "markdown",
   "metadata": {},
   "source": [
    "# Splitting for features including multiple information\n"
   ]
  },
  {
   "cell_type": "markdown",
   "metadata": {},
   "source": [
    "# country_unit"
   ]
  },
  {
   "cell_type": "code",
   "execution_count": 131,
   "metadata": {},
   "outputs": [],
   "source": [
    "def extract_city_country(item):      \n",
    "    if (type(item) == str):\n",
    "        item = item.strip()\n",
    "        # there are some empty (non-nan) values\n",
    "        if (item == ''):\n",
    "            return [float('nan'), float('nan')]\n",
    "    \n",
    "        item = re.sub(' +', ' ', item) # remove multiple spaces\n",
    "\n",
    "        if (' ' in item) and ('Eesti' in item):        \n",
    "            split = item.split(' ')\n",
    "            return [' '.join(split[1:]), split[0]]\n",
    "        else: \n",
    "            return [float('nan'), item]\n",
    "    else:\n",
    "        return [float('nan'), float('nan')]"
   ]
  },
  {
   "cell_type": "code",
   "execution_count": 203,
   "metadata": {},
   "outputs": [],
   "source": [
    "data = combined_data_fully_translated.copy()\n",
    "\n",
    "data['city_municipality'] = data.apply(lambda item: extract_city_country(item['country_and_unit'])[0], axis=1)\n",
    "data['country'] = data.apply(lambda item: extract_city_country(item['country_and_unit'])[1], axis=1)\n",
    "\n",
    "data.to_csv('data/prep.csv')"
   ]
  },
  {
   "cell_type": "markdown",
   "metadata": {},
   "source": [
    "# material"
   ]
  },
  {
   "cell_type": "code",
   "execution_count": 219,
   "metadata": {},
   "outputs": [],
   "source": [
    "data = prep.copy()\n",
    "\n",
    "# to make the following work even for nan values\n",
    "data['material'] = data['material'].replace(np.nan, 'nan')\n",
    "# prepare single values to be distinguishable\n",
    "data['material'] = data['material'].apply(lambda x: x.split('>'))\n",
    "\n",
    "# https://stackoverflow.com/questions/45312377/how-to-one-hot-encode-from-a-pandas-column-containing-a-list\n",
    "\n",
    "mlb = MultiLabelBinarizer()\n",
    "data = data.join(pd.DataFrame(mlb.fit_transform(data.pop('material')),\n",
    "                          columns='material_' + mlb.classes_,\n",
    "                          index=data.index))\n",
    "\n",
    "data.to_csv('data/prep.csv')"
   ]
  },
  {
   "cell_type": "markdown",
   "metadata": {},
   "source": [
    "# technique"
   ]
  },
  {
   "cell_type": "code",
   "execution_count": 233,
   "metadata": {},
   "outputs": [],
   "source": [
    "data = prep.copy()\n",
    "\n",
    "# to make the following work even for nan values\n",
    "data['technique'] = data['technique'].replace(np.nan, 'nan')\n",
    "\n",
    "# prepare single values to be distinguishable\n",
    "data['technique'] = data['technique'].apply(lambda x: x.split('>'))\n",
    "\n",
    "mlb = MultiLabelBinarizer()\n",
    "data = data.join(pd.DataFrame(mlb.fit_transform(data.pop('technique')),\n",
    "                          columns='technique_' + mlb.classes_,\n",
    "                          index=data.index), rsuffix='')\n",
    "\n",
    "data.to_csv('data/prep.csv')"
   ]
  },
  {
   "attachments": {},
   "cell_type": "markdown",
   "metadata": {},
   "source": [
    "# location"
   ]
  },
  {
   "cell_type": "code",
   "execution_count": 3,
   "metadata": {},
   "outputs": [],
   "source": [
    "data = prep.copy()\n",
    "\n",
    "data['location_city'] = data['location'].apply(lambda x: 1 if (type(x) == str) and ('linn ' in x) else 0)\n",
    "data['location_building'] = data['location'].apply(lambda x: 1 if (type(x) == str) and ('hoone ' in x) else 0)\n",
    "data['location_street'] = data['location'].apply(lambda x: 1 if (type(x) == str) and ('tänav ' in x) else 0)\n",
    "data['location_country'] = data['location'].apply(lambda x: 1 if (type(x) == str) and ('riik ' in x) else 0)\n",
    "data['location_address'] = data['location'].apply(lambda x: 1 if (type(x) == str) and ('aadress ' in x) else 0)\n",
    "\n",
    "data.to_csv('data/prep.csv')"
   ]
  }
 ],
 "metadata": {
  "kernelspec": {
   "display_name": "Python 3.10.6 64-bit",
   "language": "python",
   "name": "python3"
  },
  "language_info": {
   "codemirror_mode": {
    "name": "ipython",
    "version": 3
   },
   "file_extension": ".py",
   "mimetype": "text/x-python",
   "name": "python",
   "nbconvert_exporter": "python",
   "pygments_lexer": "ipython3",
   "version": "3.10.6 (main, Nov  2 2022, 18:53:38) [GCC 11.3.0]"
  },
  "orig_nbformat": 4,
  "vscode": {
   "interpreter": {
    "hash": "916dbcbb3f70747c44a77c7bcd40155683ae19c65e1c03b4aa3499c5328201f1"
   }
  }
 },
 "nbformat": 4,
 "nbformat_minor": 2
}
