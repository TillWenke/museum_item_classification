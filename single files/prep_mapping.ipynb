{
 "cells": [
  {
   "cell_type": "code",
   "execution_count": 3,
   "id": "985cd71c",
   "metadata": {},
   "outputs": [],
   "source": [
    "from setup_general import *"
   ]
  },
  {
   "cell_type": "markdown",
   "id": "cd4a3dba",
   "metadata": {},
   "source": [
    "# Mapping "
   ]
  },
  {
   "cell_type": "markdown",
   "id": "a9eb9de2",
   "metadata": {},
   "source": [
    "Map to 0/1 for the following columns: is_orginal, museum_abbr, class"
   ]
  },
  {
   "cell_type": "code",
   "execution_count": 54,
   "id": "af859297",
   "metadata": {},
   "outputs": [
    {
     "data": {
      "text/plain": [
       "name on the source document    306\n",
       "manufacturer's name              5\n",
       "Name: class, dtype: int64"
      ]
     },
     "execution_count": 54,
     "metadata": {},
     "output_type": "execute_result"
    }
   ],
   "source": [
    "#check attribute values\n",
    "prep['class'].value_counts()\n",
    "#name on the source document, manufacturer's name "
   ]
  },
  {
   "cell_type": "code",
   "execution_count": 55,
   "id": "7e2e44ee",
   "metadata": {},
   "outputs": [
    {
     "data": {
      "text/plain": [
       "1.0    16278\n",
       "0.0      568\n",
       "Name: is_original, dtype: int64"
      ]
     },
     "execution_count": 55,
     "metadata": {},
     "output_type": "execute_result"
    }
   ],
   "source": [
    "prep['is_original'].value_counts()\n",
    "#already 1, 0"
   ]
  },
  {
   "cell_type": "code",
   "execution_count": 56,
   "id": "23ed4d13",
   "metadata": {},
   "outputs": [
    {
     "data": {
      "text/plain": [
       "ETMM    11387\n",
       "AM       8611\n",
       "Name: museum_abbr, dtype: int64"
      ]
     },
     "execution_count": 56,
     "metadata": {},
     "output_type": "execute_result"
    }
   ],
   "source": [
    "prep['museum_abbr'].value_counts()\n",
    "#ETMM, AM\n",
    "#Meanings? ETMM - could be Estonian Theatre and Music Museum (Tallinn)??\n",
    "#AM - could be Ajaloomuuseum\n",
    "#source: https://www.ajaloomuuseum.ee/about-museum/documents/development-plan-of-sihtasutus-eesti-ajaloomuuseum-for-2019-2023"
   ]
  },
  {
   "cell_type": "code",
   "execution_count": 57,
   "id": "ca861fff",
   "metadata": {},
   "outputs": [],
   "source": [
    "data = prep.copy()"
   ]
  },
  {
   "cell_type": "code",
   "execution_count": 58,
   "id": "58f16178",
   "metadata": {
    "scrolled": true
   },
   "outputs": [
    {
     "name": "stdout",
     "output_type": "stream",
     "text": [
      "ETMM    11387\n",
      "AM       8611\n",
      "Name: museum_abbr, dtype: int64\n",
      "1.0    11387\n",
      "0.0     8611\n",
      "Name: museum_abbr, dtype: int64\n",
      "name on the source document    306\n",
      "manufacturer's name              5\n",
      "Name: class, dtype: int64\n",
      "1.0    306\n",
      "0.0      5\n",
      "Name: class, dtype: int64\n"
     ]
    }
   ],
   "source": [
    "#map to 0/1\n",
    "\n",
    "#prep.is_original = prep.is_original.map(dict(yes=1, no=0)) # not needed already done!\n",
    "\n",
    "#museum_abbr\n",
    "#before mapping\n",
    "print(data['museum_abbr'].value_counts())\n",
    "data['museum_abbr'] = data['museum_abbr'].map(dict(ETMM=1, AM=0))\n",
    "#after mapping \n",
    "print(data['museum_abbr'].value_counts())\n",
    "\n",
    "#class\n",
    "#before\n",
    "print(data['class'].value_counts())\n",
    "\n",
    "#define condition so we can map variables with ' characters\n",
    "def condition(x):\n",
    "    if x == \"name on the source document\":\n",
    "        return 1\n",
    "    elif x == \"manufacturer's name\":\n",
    "        return 0\n",
    " \n",
    "data['class'] = data['class'].apply(condition)                                      \n",
    "#after\n",
    "print(data['class'].value_counts())"
   ]
  },
  {
   "cell_type": "markdown",
   "id": "0aa0151d",
   "metadata": {},
   "source": [
    "Unsolved issue : do we map NaN or leave them as is?"
   ]
  },
  {
   "cell_type": "code",
   "execution_count": 59,
   "id": "f0873438",
   "metadata": {},
   "outputs": [],
   "source": [
    "#save \n",
    "data.to_csv('data/prep.csv')"
   ]
  },
  {
   "cell_type": "code",
   "execution_count": 46,
   "id": "12da02f7",
   "metadata": {},
   "outputs": [],
   "source": [
    "#Unsure if mapping for museum_abbr done correctly! - Might need to re-create prep from the beginning??"
   ]
  },
  {
   "cell_type": "code",
   "execution_count": 60,
   "id": "aa0c2789",
   "metadata": {},
   "outputs": [
    {
     "name": "stdout",
     "output_type": "stream",
     "text": [
      "1.0    11387\n",
      "0.0     8611\n",
      "Name: museum_abbr, dtype: int64\n"
     ]
    },
    {
     "name": "stderr",
     "output_type": "stream",
     "text": [
      "C:\\Users\\daria\\AppData\\Local\\Temp\\ipykernel_10764\\821397110.py:2: DtypeWarning: Columns (13,266) have mixed types. Specify dtype option on import or set low_memory=False.\n",
      "  data2 = pd.read_csv('data/prep.csv', index_col='id', dtype={'type': str})\n"
     ]
    },
    {
     "name": "stdout",
     "output_type": "stream",
     "text": [
      "1.0    11387\n",
      "0.0     8611\n",
      "Name: museum_abbr, dtype: int64\n"
     ]
    }
   ],
   "source": [
    "print(data['museum_abbr'].value_counts()) #wasn't empty before?\n",
    "data2 = pd.read_csv('data/prep.csv', index_col='id', dtype={'type': str})\n",
    "\n",
    "print(data2['museum_abbr'].value_counts())"
   ]
  }
 ],
 "metadata": {
  "kernelspec": {
   "display_name": "Python 3 (ipykernel)",
   "language": "python",
   "name": "python3"
  },
  "language_info": {
   "codemirror_mode": {
    "name": "ipython",
    "version": 3
   },
   "file_extension": ".py",
   "mimetype": "text/x-python",
   "name": "python",
   "nbconvert_exporter": "python",
   "pygments_lexer": "ipython3",
   "version": "3.9.7"
  }
 },
 "nbformat": 4,
 "nbformat_minor": 5
}
