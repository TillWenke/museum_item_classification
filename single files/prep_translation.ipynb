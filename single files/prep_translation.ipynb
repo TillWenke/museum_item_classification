{
 "cells": [
  {
   "cell_type": "code",
   "execution_count": 1,
   "metadata": {},
   "outputs": [],
   "source": [
    "from setup_general import *"
   ]
  },
  {
   "cell_type": "markdown",
   "id": "77e374c8",
   "metadata": {},
   "source": [
    "# Translation\n"
   ]
  },
  {
   "cell_type": "code",
   "execution_count": 3,
   "id": "fe732728",
   "metadata": {},
   "outputs": [],
   "source": [
    "# sophisticated approach for translation\n",
    "def translate(data, column):\n",
    "    original = data[column].dropna().unique()\n",
    "    original_no_num = [item for item in original if not item.isnumeric()] # in some columns there are numbers as str that cant be translated\n",
    "    translated = [GoogleTranslator(source='et', target='en').translate(word) for word in original_no_num]\n",
    "    data[column] = data[column].replace(original_no_num, translated)\n",
    "\n",
    "# use: array of column names. replace which data set is to be used and what file is written\n",
    "# eg: # train: 'material', 'name', 'commentary', 'event_type', 'location', 'country_and_unit', 'participants_role', 'text', 'class', 'technique', 'parameter', 'legend',  'damages', 'color', 'type', 'initial_info', 'additional_text', 'state', 'before_Christ'\n",
    "\n",
    "def translate_columns(columnns):\n",
    "    for column in columnns:\n",
    "        translate(prep, column)\n",
    "        print(column, 'done')\n",
    "        prep.to_csv('data/prep.csv')"
   ]
  },
  {
   "cell_type": "code",
   "execution_count": 4,
   "id": "51866af3",
   "metadata": {},
   "outputs": [],
   "source": [
    "# eg. translate_columns(['unit'])"
   ]
  },
  {
   "attachments": {},
   "cell_type": "markdown",
   "metadata": {},
   "source": [
    "# Translate Russian"
   ]
  },
  {
   "cell_type": "code",
   "execution_count": null,
   "metadata": {},
   "outputs": [],
   "source": [
    "def has_cyrillic(text):\n",
    "    return bool(re.search('[а-яА-Я]', text))"
   ]
  },
  {
   "cell_type": "code",
   "execution_count": null,
   "id": "97a340f6",
   "metadata": {},
   "outputs": [
    {
     "data": {
      "text/plain": [
       "set()"
      ]
     },
     "metadata": {},
     "output_type": "display_data"
    }
   ],
   "source": [
    "# estonian to english translation already translates some of the russian cells but no all\n",
    "# find the columns that have russian text\n",
    "cyrillic_columns = set()\n",
    "\n",
    "dataset = combined_data_translated\n",
    "\n",
    "for column in dataset.select_dtypes(include=object).columns:\n",
    "    for word in dataset[column].dropna().unique():\n",
    "        if has_cyrillic(word):\n",
    "            cyrillic_columns.add(column)\n",
    "\n",
    "cyrillic_columns"
   ]
  },
  {
   "cell_type": "code",
   "execution_count": null,
   "id": "dda97b66",
   "metadata": {},
   "outputs": [],
   "source": [
    "# translate cyrillic text to english\n",
    "for column in combined_data_translated.select_dtypes(include=object).columns:\n",
    "    for word in combined_data_translated[column].dropna().unique():\n",
    "        if has_cyrillic(word):\n",
    "            translation = GoogleTranslator(source='ru', target='en').translate(str(word))\n",
    "            combined_data_translated[column] = combined_data_translated[column].replace(word, translation)"
   ]
  },
  {
   "cell_type": "markdown",
   "metadata": {},
   "source": [
    "# Clean type translation"
   ]
  },
  {
   "cell_type": "code",
   "execution_count": 3,
   "metadata": {},
   "outputs": [],
   "source": [
    "# translation might fail - especially for types this has to be fixed manually\n",
    "data = prep.copy()\n",
    "\n",
    "data.type = data.type.replace({'there':'seal', 'there/imprint':'seal/imprint', 'a letter':'letter',\\\n",
    "    'sheet music':'music sheet', 'in small print':'small print', 'in the country':'country',\\\n",
    "    'a suit':'suit'})\n",
    "\n",
    "data.to_csv('data/prep.csv')"
   ]
  }
 ],
 "metadata": {
  "kernelspec": {
   "display_name": "Python 3.10.6 64-bit",
   "language": "python",
   "name": "python3"
  },
  "language_info": {
   "codemirror_mode": {
    "name": "ipython",
    "version": 3
   },
   "file_extension": ".py",
   "mimetype": "text/x-python",
   "name": "python",
   "nbconvert_exporter": "python",
   "pygments_lexer": "ipython3",
   "version": "3.10.6"
  },
  "orig_nbformat": 4,
  "vscode": {
   "interpreter": {
    "hash": "916dbcbb3f70747c44a77c7bcd40155683ae19c65e1c03b4aa3499c5328201f1"
   }
  }
 },
 "nbformat": 4,
 "nbformat_minor": 2
}
