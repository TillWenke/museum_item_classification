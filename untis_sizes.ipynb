{
 "cells": [
  {
   "cell_type": "code",
   "execution_count": 2,
   "metadata": {},
   "outputs": [],
   "source": [
    "from setup_general import *"
   ]
  },
  {
   "attachments": {},
   "cell_type": "markdown",
   "metadata": {},
   "source": [
    "# Finish unit translation/ unification &  values to float"
   ]
  },
  {
   "cell_type": "code",
   "execution_count": 184,
   "metadata": {},
   "outputs": [],
   "source": [
    "data = prep.copy()\n",
    "data['value'] = data['value'].apply(lambda x: float(x.replace(',', '.')) if type(x) == str else x)\n",
    "data.to_csv('data/prep.csv')"
   ]
  },
  {
   "cell_type": "code",
   "execution_count": 210,
   "metadata": {},
   "outputs": [],
   "source": [
    "data = prep.copy()\n",
    "\n",
    "# e.g wrong translation\n",
    "data['unit'] = data['unit'].replace('e.g','mm')\n",
    "data['unit'] = data['unit'].replace('pc','pieces')\n",
    "data['unit'] = data['unit'].replace('page','pages')\n",
    "# unify units\n",
    "data['unit'] = data['unit'].replace('10 x 15 cm','100 x 150 mm')\n",
    "\n",
    "data.to_csv('data/prep.csv')"
   ]
  },
  {
   "cell_type": "markdown",
   "metadata": {},
   "source": [
    "# mm to cm"
   ]
  },
  {
   "cell_type": "code",
   "execution_count": 296,
   "metadata": {},
   "outputs": [],
   "source": [
    "data = prep.copy()\n",
    "\n",
    "\n",
    "data['value'] = data.apply(lambda item: item['value'] / 10 if item['unit'] == 'mm' else item['value'], axis=1)\n",
    "data['unit'] = data['unit'].replace('mm','cm')\n",
    "data['value'] = pd.to_numeric(data['value'])\n",
    "\n",
    "data.to_csv('data/prep.csv')"
   ]
  },
  {
   "cell_type": "markdown",
   "metadata": {},
   "source": [
    "# Combine parameter, unit & w/h values to value"
   ]
  },
  {
   "cell_type": "code",
   "execution_count": 304,
   "metadata": {},
   "outputs": [],
   "source": [
    "def get_squared(item):\n",
    "    if ' x ' in item:\n",
    "        return item + '²'\n",
    "    else:\n",
    "        return item\n",
    "\n",
    "def extract_width_height_from_unit_to_value(item):\n",
    "    unit = item[0]\n",
    "    value = item[1]\n",
    "    if ' x ' in unit:\n",
    "        split = unit.split(' ')\n",
    "        x = split[0]\n",
    "        y = split[2]\n",
    "        real_unit = split[3]\n",
    "        real_value = [x,y]        \n",
    "        return [real_unit, real_value]\n",
    "\n",
    "    else:\n",
    "        return [unit, value]"
   ]
  },
  {
   "cell_type": "code",
   "execution_count": 306,
   "metadata": {},
   "outputs": [],
   "source": [
    "data = prep.copy()\n",
    "\n",
    "data['unit'] = data['unit'].replace(np.nan,'*')\n",
    "data['parameter'] = data['parameter'].replace(np.nan,'*')\n",
    "data['unit'] = data['unit'].apply(lambda x: get_squared(x))\n",
    "# execution order is important\n",
    "data['value'] = data.apply(lambda item: extract_width_height_from_unit_to_value(item[['unit','value']])[1], axis=1)\n",
    "data['unit'] = data.apply(lambda item: extract_width_height_from_unit_to_value(item[['unit','value']])[0], axis=1)\n",
    "data['parameter_and_unit'] = data['parameter'] + ' IN ' + data['unit']\n",
    "\n",
    "data.to_csv('data/prep.csv')"
   ]
  },
  {
   "cell_type": "markdown",
   "metadata": {},
   "source": [
    "# parameter_and_units as single features with respective values"
   ]
  },
  {
   "cell_type": "code",
   "execution_count": 316,
   "metadata": {},
   "outputs": [],
   "source": [
    "data = prep.copy()\n",
    "\n",
    "# parameter_and_unit turned into one hot encoded features\n",
    "data= pd.get_dummies(data, columns=['parameter_and_unit'], prefix='', prefix_sep='')\n",
    "data.to_csv('data/prep.csv')"
   ]
  },
  {
   "cell_type": "code",
   "execution_count": 319,
   "metadata": {},
   "outputs": [],
   "source": [
    "# now put values into one hot encoded features\n",
    "data = prep.copy()\n",
    "\n",
    "# for all new \"parameter with unit\" columns put the value in the column where a 1 is - others are 0 and remain 0\n",
    "for column in data.columns:\n",
    "    if ' IN ' in column:\n",
    "        data[column] = data.apply(lambda item: item['value'] * item[column], axis=1)\n",
    "\n",
    "data.to_csv('data/prep.csv')"
   ]
  },
  {
   "cell_type": "markdown",
   "metadata": {},
   "source": [
    "# make all size features numeric"
   ]
  },
  {
   "cell_type": "code",
   "execution_count": null,
   "metadata": {},
   "outputs": [],
   "source": [
    "def extract_height_width(item):    \n",
    "    if type(item) == str:\n",
    "        # Converting string to list\n",
    "        res = item.strip('][').split(', ')\n",
    "        h = float(res[0].strip('\\''))\n",
    "        w = float(res[1].strip('\\''))\n",
    "        return [h,w]\n",
    "\n",
    "    else:\n",
    "        return [float('nan'), float('nan')]"
   ]
  },
  {
   "cell_type": "code",
   "execution_count": 4,
   "metadata": {},
   "outputs": [],
   "source": [
    "data = prep.copy()\n",
    "\n",
    "for column in data.columns:\n",
    "    # all the parameter with unit columns that contain arrays that are represeted as strings\n",
    "    if (' IN ' in column) and (data[column].dtype == object):\n",
    "        data[column + '_height'] = data.apply(lambda item: extract_height_width(item[column])[0], axis=1)\n",
    "        data[column + '_width'] = data.apply(lambda item: extract_height_width(item[column])[1], axis=1)\n",
    "\n",
    "for column in data.columns:\n",
    "    if (' IN ' in column):\n",
    "        data[column] = data[column].replace(np.nan,0)\n",
    "\n",
    "data.to_csv('data/prep.csv')"
   ]
  }
 ],
 "metadata": {
  "kernelspec": {
   "display_name": "Python 3.10.6 64-bit",
   "language": "python",
   "name": "python3"
  },
  "language_info": {
   "codemirror_mode": {
    "name": "ipython",
    "version": 3
   },
   "file_extension": ".py",
   "mimetype": "text/x-python",
   "name": "python",
   "nbconvert_exporter": "python",
   "pygments_lexer": "ipython3",
   "version": "3.10.6 (main, Nov  2 2022, 18:53:38) [GCC 11.3.0]"
  },
  "orig_nbformat": 4,
  "vscode": {
   "interpreter": {
    "hash": "916dbcbb3f70747c44a77c7bcd40155683ae19c65e1c03b4aa3499c5328201f1"
   }
  }
 },
 "nbformat": 4,
 "nbformat_minor": 2
}
