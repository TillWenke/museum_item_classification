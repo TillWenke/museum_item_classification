{
 "cells": [
  {
   "cell_type": "markdown",
   "id": "f3eb8133",
   "metadata": {},
   "source": [
    "# Combing the Training and Test set"
   ]
  },
  {
   "cell_type": "markdown",
   "id": "973a617f",
   "metadata": {},
   "source": [
    "This notebook combines the train and test dataset provided by Kaggle into one collective dataset to used for the data prepartion "
   ]
  },
  {
   "cell_type": "code",
   "execution_count": 1,
   "id": "7f175402",
   "metadata": {},
   "outputs": [],
   "source": [
    "# Imports\n",
    "from setup_general import *"
   ]
  },
  {
   "cell_type": "code",
   "execution_count": 2,
   "id": "ef644e81",
   "metadata": {},
   "outputs": [],
   "source": [
    "#Pre translation \n",
    "train = pd.read_csv('data/train.csv')\n",
    "test = pd.read_csv('data/test.csv')\n",
    "\n",
    "df1 = train.copy() \n",
    "df1['source'] = 'train'\n",
    "df2 = test.copy() \n",
    "df2['source'] = 'test'\n",
    "\n",
    "combined_data = pd.concat([df1,df2])\n",
    "\n",
    "combined_data.to_csv('combined_data.csv')"
   ]
  },
  {
   "cell_type": "code",
   "execution_count": 3,
   "id": "699b70f2",
   "metadata": {},
   "outputs": [],
   "source": [
    "#After translation\n",
    "train = pd.read_csv('data/train_translated.csv')\n",
    "test = pd.read_csv('data/test_translated.csv')\n",
    "\n",
    "df1 = train.copy() \n",
    "df1['source'] = 'train'\n",
    "df2 = test.copy() \n",
    "df2['source'] = 'test'\n",
    "\n",
    "combined_data = pd.concat([df1,df2])\n",
    "\n",
    "combined_data.to_csv('combined_data_trans.csv')"
   ]
  }
 ],
 "metadata": {
  "kernelspec": {
   "display_name": "Python 3 (ipykernel)",
   "language": "python",
   "name": "python3"
  },
  "language_info": {
   "codemirror_mode": {
    "name": "ipython",
    "version": 3
   },
   "file_extension": ".py",
   "mimetype": "text/x-python",
   "name": "python",
   "nbconvert_exporter": "python",
   "pygments_lexer": "ipython3",
   "version": "3.9.7"
  }
 },
 "nbformat": 4,
 "nbformat_minor": 5
}
