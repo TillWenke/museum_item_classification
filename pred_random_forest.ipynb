{
 "cells": [
  {
   "cell_type": "code",
   "execution_count": 1,
   "metadata": {},
   "outputs": [],
   "source": [
    "from setup_general import *"
   ]
  },
  {
   "cell_type": "markdown",
   "metadata": {},
   "source": [
    "# setup data for classifier"
   ]
  },
  {
   "cell_type": "code",
   "execution_count": 2,
   "metadata": {},
   "outputs": [],
   "source": [
    "data = train_est_prepared.copy()\n",
    "rebalancing = False\n",
    "\n",
    "features = data.drop('type', axis=1)\n",
    "labels = data.type\n",
    "# at least xgboost cannot deal with string labels\n",
    "label_encoder = LabelEncoder()\n",
    "label_encoder = label_encoder.fit(labels)\n",
    "labels = label_encoder.transform(labels)\n",
    "\n",
    "X_train, X_test, y_train, y_test = train_test_split(features, labels, test_size=0.3, random_state=0)"
   ]
  },
  {
   "cell_type": "code",
   "execution_count": 10,
   "metadata": {},
   "outputs": [
    {
     "data": {
      "text/plain": [
       "photo                                           2680\n",
       "photo negative                                  1516\n",
       "design/drawing/sketch                            567\n",
       "plan                                             558\n",
       "archaeological find                              549\n",
       "poster                                           537\n",
       "letter                                           434\n",
       "book                                             366\n",
       "document                                         325\n",
       "manuscript                                       316\n",
       "graphics                                         163\n",
       "music sheet                                      149\n",
       "script, song/vocal music                         141\n",
       "coin                                             140\n",
       "seal/imprint                                     133\n",
       "digital image                                    130\n",
       "postcard                                         108\n",
       "small print                                       80\n",
       "magazines                                         71\n",
       "invitation                                        63\n",
       "newspaper                                         61\n",
       "medal                                             58\n",
       "audio recording                                   54\n",
       "telegram                                          46\n",
       "slide                                             42\n",
       "manuscript, musical composition                   41\n",
       "calendar                                          33\n",
       "label/sign                                        33\n",
       "photographic material                             31\n",
       "drawing                                           29\n",
       "photo, postcard                                   29\n",
       "letter of honor/honorary address                  22\n",
       "musical instrument                                21\n",
       "caricature                                        20\n",
       "paper                                             18\n",
       "seal                                              17\n",
       "photographic negative, photographic negative      17\n",
       "country                                           16\n",
       "printed notes                                     15\n",
       "suit                                              15\n",
       "crate/box                                         14\n",
       "dish/vessel                                       14\n",
       "folder/booklet                                    13\n",
       "sheet/linen                                       13\n",
       "album                                             12\n",
       "manuscript, sheet music                           12\n",
       "jewel                                             12\n",
       "notes                                             11\n",
       "tape/ribbon                                       10\n",
       "bag                                               10\n",
       "sculpture                                          9\n",
       "packaging                                          9\n",
       "certificate                                        8\n",
       "letter, postcard                                   5\n",
       "doll                                               4\n",
       "Name: type, dtype: int64"
      ]
     },
     "execution_count": 10,
     "metadata": {},
     "output_type": "execute_result"
    }
   ],
   "source": [
    "data.type.value_counts()"
   ]
  },
  {
   "attachments": {},
   "cell_type": "markdown",
   "metadata": {},
   "source": [
    "# single rf classifier"
   ]
  },
  {
   "cell_type": "code",
   "execution_count": 6,
   "metadata": {},
   "outputs": [],
   "source": [
    "#function to have resamplers resample to specific number of samples per class\n",
    "def by_num(y, min_samples):\n",
    "    b = Counter(y).values()\n",
    "    a = Counter(y).keys()\n",
    "    a = list(a)\n",
    "    b = list(b)\n",
    "\n",
    "    if min_samples > max(b):\n",
    "        min_samples = max(b)\n",
    "\n",
    "    for i in range(len(a)):\n",
    "        if b[i] < min_samples :\n",
    "            b[i] = min_samples\n",
    "    return dict(zip(a, b))"
   ]
  },
  {
   "cell_type": "code",
   "execution_count": 9,
   "metadata": {},
   "outputs": [
    {
     "name": "stderr",
     "output_type": "stream",
     "text": [
      "/home/till/.local/lib/python3.10/site-packages/sklearn/model_selection/_split.py:684: UserWarning: The least populated class in y has only 3 members, which is less than n_splits=4.\n",
      "  warnings.warn(\n"
     ]
    },
    {
     "name": "stdout",
     "output_type": "stream",
     "text": [
      "[0.8775510204081632, 0.8822157434402332, 0.8845481049562682, 0.882798833819242]\n"
     ]
    }
   ],
   "source": [
    "from imblearn.pipeline import Pipeline\n",
    "\n",
    "rfc = RandomForestClassifier(n_estimators=500, random_state=0)\n",
    "skf = StratifiedKFold(n_splits=4)\n",
    "\n",
    "val_acc = []\n",
    "\n",
    "for i, (train_index, test_index) in enumerate(skf.split(X_train, y_train)):\n",
    "    X_train_fold, X_test_fold = X_train.iloc[train_index], X_train.iloc[test_index]\n",
    "    y_train_fold, y_test_fold = y_train[train_index], y_train[test_index]\n",
    "\n",
    "    over = SMOTE(sampling_strategy=by_num(y_train_fold,100), k_neighbors=1,random_state=0)\n",
    "\n",
    "    steps = [('over', over),('model', rfc)]\n",
    "\n",
    "    pipe = Pipeline(steps=steps)\n",
    "    pipe.fit(X_train_fold, y_train_fold)\n",
    "\n",
    "    y_pred = rfc.predict(X_test_fold)\n",
    "    val_acc.append(accuracy_score(y_test_fold, y_pred))\n",
    "\n",
    "print(val_acc)\n"
   ]
  },
  {
   "cell_type": "markdown",
   "metadata": {},
   "source": [
    "# sweeping"
   ]
  },
  {
   "cell_type": "code",
   "execution_count": null,
   "metadata": {},
   "outputs": [],
   "source": [
    "project = 'rf'\n",
    "\n",
    "# Define sweep config\n",
    "sweep_configuration = {\n",
    "    'method': 'bayes',\n",
    "    'name': 'sweep',\n",
    "    'metric': {'goal': 'maximize', 'name': 'val_acc'},\n",
    "    'parameters': \n",
    "    {\n",
    "        'split': {'values': [2, 5, 10, 100]},\n",
    "        'depth': {'values': [3, 6, 10, 50, 100, 1000]},\n",
    "        'leaf': {'values': [2, 6, 10, 50, 100, 1000, 5000]},\n",
    "        'estimators': {'values': [200, 500, 1000, 2000]},\n",
    "        'features': {'values': [None, 'sqrt', 'log2']},\n",
    "\n",
    "     }\n",
    "}\n",
    "\n",
    "# Initialize sweep by passing in config. (Optional) Provide a name of the project.\n",
    "sweep_id = wandb.sweep(sweep=sweep_configuration, project=project)\n",
    "\n",
    "def main():\n",
    "    run = wandb.init(project=project)\n",
    "\n",
    "    # note that we define values from `wandb.config` instead \n",
    "    # of defining hard values \n",
    "    split = wandb.config.split\n",
    "    depth = wandb.config.depth\n",
    "    leaf = wandb.config.leaf\n",
    "    estimators = wandb.config.estimators\n",
    "    feat = wandb.config.features\n",
    "    \n",
    "\n",
    "    # -------------------------- usual training code starts here  -------------------------------------\n",
    "    \n",
    "    rfc = RandomForestClassifier(n_estimators=estimators, max_depth=depth, min_samples_leaf=leaf, max_features=feat, min_samples_split=split, random_state=42)\n",
    "    rfc.fit(X_train, y_train)\n",
    "\n",
    "    y_pred = rfc.predict(X_test)\n",
    "    val_acc = accuracy_score(y_test, y_pred)\n",
    "    \n",
    "    y_pred = rfc.predict(X_train)\n",
    "    train_acc = accuracy_score(y_train, y_pred)\n",
    "\n",
    "    print(train_acc, val_acc)\n",
    "\n",
    "    # -------------------------- ends here  -------------------------------------\n",
    "    \n",
    "\n",
    "    wandb.log({\n",
    "      'train_acc': train_acc,\n",
    "      'val_acc': val_acc,\n",
    "    })\n",
    "\n",
    "# Start sweep job.\n",
    "wandb.agent(sweep_id, function=main)"
   ]
  },
  {
   "cell_type": "markdown",
   "metadata": {},
   "source": [
    "# save model"
   ]
  },
  {
   "cell_type": "code",
   "execution_count": 5,
   "metadata": {},
   "outputs": [],
   "source": [
    "pickle.dump(rfc, open('./models/rf/train_prep_full_best', 'wb'))\n",
    "loaded_model = pickle.load(open('./models/rf/first_try', 'rb'))"
   ]
  },
  {
   "cell_type": "markdown",
   "metadata": {},
   "source": [
    "# submission from model"
   ]
  },
  {
   "cell_type": "code",
   "execution_count": null,
   "metadata": {},
   "outputs": [],
   "source": [
    "test_set = test_prep.drop('type', axis=1)\n",
    "submission = pd.DataFrame({'id': test_set.index ,'type': rfc.predict(test_set)})\n",
    "submission = submission.replace(type_lookup.id.to_list(), type_lookup.estonian.to_list())\n",
    "submission.to_csv('submissions/some_rf_model.csv', index=False)"
   ]
  }
 ],
 "metadata": {
  "kernelspec": {
   "display_name": "Python 3",
   "language": "python",
   "name": "python3"
  },
  "language_info": {
   "codemirror_mode": {
    "name": "ipython",
    "version": 3
   },
   "file_extension": ".py",
   "mimetype": "text/x-python",
   "name": "python",
   "nbconvert_exporter": "python",
   "pygments_lexer": "ipython3",
   "version": "3.10.6 (main, Nov 14 2022, 16:10:14) [GCC 11.3.0]"
  },
  "orig_nbformat": 4,
  "vscode": {
   "interpreter": {
    "hash": "916dbcbb3f70747c44a77c7bcd40155683ae19c65e1c03b4aa3499c5328201f1"
   }
  }
 },
 "nbformat": 4,
 "nbformat_minor": 2
}
