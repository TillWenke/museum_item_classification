{
 "cells": [
  {
   "cell_type": "markdown",
   "id": "6d4c6768",
   "metadata": {},
   "source": [
    "# Combing the Training and Test set"
   ]
  },
  {
   "cell_type": "code",
   "execution_count": 1,
   "id": "a11acd9a",
   "metadata": {},
   "outputs": [],
   "source": [
    "# Imports\n",
    "import pandas as pd\n",
    "import numpy as np\n",
    "from matplotlib import pyplot as plt"
   ]
  },
  {
   "cell_type": "code",
   "execution_count": 2,
   "id": "6de8a61a",
   "metadata": {},
   "outputs": [],
   "source": [
    "#Pre translation \n",
    "train = pd.read_csv('data/train.csv')\n",
    "test = pd.read_csv('data/test.csv')\n",
    "\n",
    "df1 = train.copy() \n",
    "df1['source'] = 'train'\n",
    "df2 = test.copy() \n",
    "df2['source'] = 'test'\n",
    "\n",
    "combined_data = pd.concat([df1,df2])\n",
    "\n",
    "combined_data.to_csv('combined_data.csv')"
   ]
  },
  {
   "cell_type": "code",
   "execution_count": 3,
   "id": "834dc5c4",
   "metadata": {},
   "outputs": [],
   "source": [
    "#After translation\n",
    "train = pd.read_csv('data/train_translated.csv')\n",
    "test = pd.read_csv('data/test_translated.csv')\n",
    "\n",
    "df1 = train.copy() \n",
    "df1['source'] = 'train'\n",
    "df2 = test.copy() \n",
    "df2['source'] = 'test'\n",
    "\n",
    "combined_data = pd.concat([df1,df2])\n",
    "\n",
    "combined_data.to_csv('combined_data_trans.csv')"
   ]
  }
 ],
 "metadata": {
  "kernelspec": {
   "display_name": "Python 3 (ipykernel)",
   "language": "python",
   "name": "python3"
  },
  "language_info": {
   "codemirror_mode": {
    "name": "ipython",
    "version": 3
   },
   "file_extension": ".py",
   "mimetype": "text/x-python",
   "name": "python",
   "nbconvert_exporter": "python",
   "pygments_lexer": "ipython3",
   "version": "3.9.7"
  }
 },
 "nbformat": 4,
 "nbformat_minor": 5
}
