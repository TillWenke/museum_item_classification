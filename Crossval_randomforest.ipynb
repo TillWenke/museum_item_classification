{
 "cells": [
  {
   "cell_type": "markdown",
   "id": "6e082d8a",
   "metadata": {},
   "source": [
    "# Imports  "
   ]
  },
  {
   "cell_type": "code",
   "execution_count": 16,
   "id": "a729d52f",
   "metadata": {},
   "outputs": [],
   "source": [
    "# Imports\n",
    "import pandas as pd\n",
    "import numpy as np\n",
    "from matplotlib import pyplot as plt\n",
    "import re \n",
    "from math import isnan\n",
    "import wandb\n",
    "import random\n",
    "from sklearn.ensemble import RandomForestClassifier\n",
    "\n",
    "# utilities\n",
    "from sklearn.model_selection import train_test_split\n",
    "from sklearn.metrics import roc_auc_score\n",
    "from sklearn.metrics import accuracy_score\n",
    "from sklearn.preprocessing import LabelEncoder\n",
    "\n",
    "pd.set_option(\"display.max_columns\", None)\n",
    "pd.set_option(\"display.max_colwidth\", None)\n",
    "pd.set_option('display.max_rows', None)\n",
    "pd.set_option('display.max_seq_items', None)"
   ]
  },
  {
   "cell_type": "code",
   "execution_count": 12,
   "id": "165e0769",
   "metadata": {},
   "outputs": [],
   "source": [
    "# dtype={'type': str} prevents being confused with data type for large data sets\n",
    "train = pd.read_csv('data/train.csv', index_col='id', dtype={'type': str})\n",
    "test = pd.read_csv('data/test.csv', index_col='id', dtype={'type': str})\n",
    "train_translated = pd.read_csv('data/train_translated.csv', dtype={'type': str})\n",
    "test_translated = pd.read_csv('data/test_translated.csv', index_col='id', dtype={'type': str})\n",
    "combined_data = pd.read_csv('data/combined_data.csv', index_col='id', dtype={'type': str})\n",
    "combined_data_translated = pd.read_csv('data/combined_data_translated.csv', index_col='id', dtype={'type': str})\n",
    "combined_data_fully_translated = pd.read_csv('data/combined_data_fully_translated.csv', index_col='id', dtype={'type': str})\n",
    "prep = pd.read_csv('data/prep.csv', index_col='id', dtype={'type': str})\n",
    "test_prep = pd.read_csv('data/test_prepared.csv', index_col='id', dtype={'type': str})\n",
    "train_prep = pd.read_csv('data/train_prepared.csv', index_col='id', dtype={'type': str})"
   ]
  },
  {
   "cell_type": "code",
   "execution_count": 14,
   "id": "b6727a90",
   "metadata": {},
   "outputs": [],
   "source": [
    "data = train_prep.copy()\n",
    "features = data.drop('type', axis=1)\n",
    "labels = data.type\n",
    "# at least xgboost cannot deal with string labels\n",
    "label_encoder = LabelEncoder()\n",
    "label_encoder = label_encoder.fit(labels)\n",
    "labels = label_encoder.transform(labels)\n",
    "\n",
    "X_train = features\n",
    "y_train = labels"
   ]
  },
  {
   "cell_type": "markdown",
   "id": "77e7a680",
   "metadata": {},
   "source": [
    "## Random Forest "
   ]
  },
  {
   "cell_type": "markdown",
   "id": "170bc90f",
   "metadata": {},
   "source": [
    "Parameters:\n",
    "\n",
    "- n_estimators = number of trees in the foreset\n",
    "- max_features = max number of features considered for splitting a node\n",
    "- max_depth = max number of levels in each decision tree\n",
    "- min_samples_split = min number of data points placed in a node before the node is split\n",
    "- min_samples_leaf = min number of data points allowed in a leaf node\n",
    "- bootstrap = method for sampling data points (with or without replacement)"
   ]
  },
  {
   "cell_type": "code",
   "execution_count": 25,
   "id": "f863ea01",
   "metadata": {},
   "outputs": [
    {
     "name": "stderr",
     "output_type": "stream",
     "text": [
      "C:\\Users\\daria\\anaconda3\\lib\\site-packages\\sklearn\\model_selection\\_split.py:680: UserWarning: The least populated class in y has only 7 members, which is less than n_splits=10.\n",
      "  warnings.warn(\n"
     ]
    },
    {
     "name": "stdout",
     "output_type": "stream",
     "text": [
      "0.9027857142857144\n",
      "0.9008571428571429\n"
     ]
    }
   ],
   "source": [
    "from sklearn.ensemble import RandomForestClassifier\n",
    "from sklearn.model_selection import cross_val_score\n",
    "import numpy as np\n",
    "\n",
    "clf = RandomForestClassifier() #Initialize with whatever parameters you want to\n",
    "\n",
    "# 10-Fold Cross validation\n",
    "print (np.mean(cross_val_score(clf, X_train, y_train, cv=10))) \n",
    "#for a normal random forest average around 0.9031428571428572\n",
    "\n",
    "# 5-Fold Cross validation\n",
    "print (np.mean(cross_val_score(clf, X_train, y_train, cv=5))) \n",
    "#for a normal random forest average around 0.9008571428571429"
   ]
  },
  {
   "cell_type": "markdown",
   "id": "04399138",
   "metadata": {},
   "source": [
    "## Grid search "
   ]
  },
  {
   "cell_type": "code",
   "execution_count": 19,
   "id": "1dd966be",
   "metadata": {},
   "outputs": [
    {
     "name": "stderr",
     "output_type": "stream",
     "text": [
      "C:\\Users\\daria\\anaconda3\\lib\\site-packages\\sklearn\\model_selection\\_split.py:680: UserWarning: The least populated class in y has only 7 members, which is less than n_splits=10.\n",
      "  warnings.warn(\n"
     ]
    },
    {
     "data": {
      "text/html": [
       "<style>#sk-container-id-1 {color: black;background-color: white;}#sk-container-id-1 pre{padding: 0;}#sk-container-id-1 div.sk-toggleable {background-color: white;}#sk-container-id-1 label.sk-toggleable__label {cursor: pointer;display: block;width: 100%;margin-bottom: 0;padding: 0.3em;box-sizing: border-box;text-align: center;}#sk-container-id-1 label.sk-toggleable__label-arrow:before {content: \"▸\";float: left;margin-right: 0.25em;color: #696969;}#sk-container-id-1 label.sk-toggleable__label-arrow:hover:before {color: black;}#sk-container-id-1 div.sk-estimator:hover label.sk-toggleable__label-arrow:before {color: black;}#sk-container-id-1 div.sk-toggleable__content {max-height: 0;max-width: 0;overflow: hidden;text-align: left;background-color: #f0f8ff;}#sk-container-id-1 div.sk-toggleable__content pre {margin: 0.2em;color: black;border-radius: 0.25em;background-color: #f0f8ff;}#sk-container-id-1 input.sk-toggleable__control:checked~div.sk-toggleable__content {max-height: 200px;max-width: 100%;overflow: auto;}#sk-container-id-1 input.sk-toggleable__control:checked~label.sk-toggleable__label-arrow:before {content: \"▾\";}#sk-container-id-1 div.sk-estimator input.sk-toggleable__control:checked~label.sk-toggleable__label {background-color: #d4ebff;}#sk-container-id-1 div.sk-label input.sk-toggleable__control:checked~label.sk-toggleable__label {background-color: #d4ebff;}#sk-container-id-1 input.sk-hidden--visually {border: 0;clip: rect(1px 1px 1px 1px);clip: rect(1px, 1px, 1px, 1px);height: 1px;margin: -1px;overflow: hidden;padding: 0;position: absolute;width: 1px;}#sk-container-id-1 div.sk-estimator {font-family: monospace;background-color: #f0f8ff;border: 1px dotted black;border-radius: 0.25em;box-sizing: border-box;margin-bottom: 0.5em;}#sk-container-id-1 div.sk-estimator:hover {background-color: #d4ebff;}#sk-container-id-1 div.sk-parallel-item::after {content: \"\";width: 100%;border-bottom: 1px solid gray;flex-grow: 1;}#sk-container-id-1 div.sk-label:hover label.sk-toggleable__label {background-color: #d4ebff;}#sk-container-id-1 div.sk-serial::before {content: \"\";position: absolute;border-left: 1px solid gray;box-sizing: border-box;top: 0;bottom: 0;left: 50%;z-index: 0;}#sk-container-id-1 div.sk-serial {display: flex;flex-direction: column;align-items: center;background-color: white;padding-right: 0.2em;padding-left: 0.2em;position: relative;}#sk-container-id-1 div.sk-item {position: relative;z-index: 1;}#sk-container-id-1 div.sk-parallel {display: flex;align-items: stretch;justify-content: center;background-color: white;position: relative;}#sk-container-id-1 div.sk-item::before, #sk-container-id-1 div.sk-parallel-item::before {content: \"\";position: absolute;border-left: 1px solid gray;box-sizing: border-box;top: 0;bottom: 0;left: 50%;z-index: -1;}#sk-container-id-1 div.sk-parallel-item {display: flex;flex-direction: column;z-index: 1;position: relative;background-color: white;}#sk-container-id-1 div.sk-parallel-item:first-child::after {align-self: flex-end;width: 50%;}#sk-container-id-1 div.sk-parallel-item:last-child::after {align-self: flex-start;width: 50%;}#sk-container-id-1 div.sk-parallel-item:only-child::after {width: 0;}#sk-container-id-1 div.sk-dashed-wrapped {border: 1px dashed gray;margin: 0 0.4em 0.5em 0.4em;box-sizing: border-box;padding-bottom: 0.4em;background-color: white;}#sk-container-id-1 div.sk-label label {font-family: monospace;font-weight: bold;display: inline-block;line-height: 1.2em;}#sk-container-id-1 div.sk-label-container {text-align: center;}#sk-container-id-1 div.sk-container {/* jupyter's `normalize.less` sets `[hidden] { display: none; }` but bootstrap.min.css set `[hidden] { display: none !important; }` so we also need the `!important` here to be able to override the default hidden behavior on the sphinx rendered scikit-learn.org. See: https://github.com/scikit-learn/scikit-learn/issues/21755 */display: inline-block !important;position: relative;}#sk-container-id-1 div.sk-text-repr-fallback {display: none;}</style><div id=\"sk-container-id-1\" class=\"sk-top-container\"><div class=\"sk-text-repr-fallback\"><pre>GridSearchCV(cv=10, estimator=RandomForestClassifier(),\n",
       "             param_grid={&#x27;max_depth&#x27;: [2, 5, 7, 9],\n",
       "                         &#x27;n_estimators&#x27;: [5, 10, 15, 20]})</pre><b>In a Jupyter environment, please rerun this cell to show the HTML representation or trust the notebook. <br />On GitHub, the HTML representation is unable to render, please try loading this page with nbviewer.org.</b></div><div class=\"sk-container\" hidden><div class=\"sk-item sk-dashed-wrapped\"><div class=\"sk-label-container\"><div class=\"sk-label sk-toggleable\"><input class=\"sk-toggleable__control sk-hidden--visually\" id=\"sk-estimator-id-1\" type=\"checkbox\" ><label for=\"sk-estimator-id-1\" class=\"sk-toggleable__label sk-toggleable__label-arrow\">GridSearchCV</label><div class=\"sk-toggleable__content\"><pre>GridSearchCV(cv=10, estimator=RandomForestClassifier(),\n",
       "             param_grid={&#x27;max_depth&#x27;: [2, 5, 7, 9],\n",
       "                         &#x27;n_estimators&#x27;: [5, 10, 15, 20]})</pre></div></div></div><div class=\"sk-parallel\"><div class=\"sk-parallel-item\"><div class=\"sk-item\"><div class=\"sk-label-container\"><div class=\"sk-label sk-toggleable\"><input class=\"sk-toggleable__control sk-hidden--visually\" id=\"sk-estimator-id-2\" type=\"checkbox\" ><label for=\"sk-estimator-id-2\" class=\"sk-toggleable__label sk-toggleable__label-arrow\">estimator: RandomForestClassifier</label><div class=\"sk-toggleable__content\"><pre>RandomForestClassifier()</pre></div></div></div><div class=\"sk-serial\"><div class=\"sk-item\"><div class=\"sk-estimator sk-toggleable\"><input class=\"sk-toggleable__control sk-hidden--visually\" id=\"sk-estimator-id-3\" type=\"checkbox\" ><label for=\"sk-estimator-id-3\" class=\"sk-toggleable__label sk-toggleable__label-arrow\">RandomForestClassifier</label><div class=\"sk-toggleable__content\"><pre>RandomForestClassifier()</pre></div></div></div></div></div></div></div></div></div></div>"
      ],
      "text/plain": [
       "GridSearchCV(cv=10, estimator=RandomForestClassifier(),\n",
       "             param_grid={'max_depth': [2, 5, 7, 9],\n",
       "                         'n_estimators': [5, 10, 15, 20]})"
      ]
     },
     "execution_count": 19,
     "metadata": {},
     "output_type": "execute_result"
    }
   ],
   "source": [
    "from sklearn.model_selection import GridSearchCV\n",
    "\n",
    "param_grid = {\n",
    "    'n_estimators': [5, 10, 15, 20],\n",
    "     'max_depth': [2, 5, 7, 9]\n",
    "}\n",
    "\n",
    "grid_clf = GridSearchCV(clf, param_grid, cv=10, scoring = 'accuracy')\n",
    "grid_clf.fit(X_train, y_train)\n"
   ]
  },
  {
   "cell_type": "code",
   "execution_count": 21,
   "id": "8a6209cf",
   "metadata": {},
   "outputs": [
    {
     "name": "stdout",
     "output_type": "stream",
     "text": [
      "RandomForestClassifier(max_depth=9, n_estimators=20)\n"
     ]
    }
   ],
   "source": [
    "#Best model\n",
    "print(grid_clf.best_estimator_)"
   ]
  },
  {
   "cell_type": "code",
   "execution_count": 22,
   "id": "84e37fb9",
   "metadata": {},
   "outputs": [
    {
     "name": "stdout",
     "output_type": "stream",
     "text": [
      "{'max_depth': 9, 'n_estimators': 20}\n"
     ]
    }
   ],
   "source": [
    "#Best parameters\n",
    "print(grid_clf.best_params_)"
   ]
  },
  {
   "cell_type": "code",
   "execution_count": 24,
   "id": "49259b48",
   "metadata": {},
   "outputs": [
    {
     "name": "stdout",
     "output_type": "stream",
     "text": [
      "{'mean_fit_time': array([0.15180211, 0.1831285 , 0.21183178, 0.24119327, 0.18142056,\n",
      "       0.24202259, 0.30372024, 0.36182663, 0.20425549, 0.28824861,\n",
      "       0.36545801, 0.4506654 , 0.22790921, 0.33142521, 0.44677289,\n",
      "       0.55276341]), 'std_fit_time': array([0.00850133, 0.00356891, 0.00612005, 0.00469836, 0.00541321,\n",
      "       0.00569036, 0.00719503, 0.010366  , 0.00367265, 0.00636806,\n",
      "       0.00696287, 0.00858385, 0.0071506 , 0.01810358, 0.02638251,\n",
      "       0.02852474]), 'mean_score_time': array([0.01847818, 0.02072721, 0.02263041, 0.02522876, 0.01972516,\n",
      "       0.02241356, 0.02501185, 0.02815332, 0.02036021, 0.02273295,\n",
      "       0.02673388, 0.02927763, 0.0222477 , 0.0254185 , 0.02585604,\n",
      "       0.02972991]), 'std_score_time': array([0.001784  , 0.00188431, 0.00077834, 0.00061566, 0.0007674 ,\n",
      "       0.00065764, 0.00093918, 0.00095546, 0.0007885 , 0.00039895,\n",
      "       0.00158197, 0.00193241, 0.00197696, 0.00485033, 0.00269201,\n",
      "       0.00344858]), 'param_max_depth': masked_array(data=[2, 2, 2, 2, 5, 5, 5, 5, 7, 7, 7, 7, 9, 9, 9, 9],\n",
      "             mask=[False, False, False, False, False, False, False, False,\n",
      "                   False, False, False, False, False, False, False, False],\n",
      "       fill_value='?',\n",
      "            dtype=object), 'param_n_estimators': masked_array(data=[5, 10, 15, 20, 5, 10, 15, 20, 5, 10, 15, 20, 5, 10, 15,\n",
      "                   20],\n",
      "             mask=[False, False, False, False, False, False, False, False,\n",
      "                   False, False, False, False, False, False, False, False],\n",
      "       fill_value='?',\n",
      "            dtype=object), 'params': [{'max_depth': 2, 'n_estimators': 5}, {'max_depth': 2, 'n_estimators': 10}, {'max_depth': 2, 'n_estimators': 15}, {'max_depth': 2, 'n_estimators': 20}, {'max_depth': 5, 'n_estimators': 5}, {'max_depth': 5, 'n_estimators': 10}, {'max_depth': 5, 'n_estimators': 15}, {'max_depth': 5, 'n_estimators': 20}, {'max_depth': 7, 'n_estimators': 5}, {'max_depth': 7, 'n_estimators': 10}, {'max_depth': 7, 'n_estimators': 15}, {'max_depth': 7, 'n_estimators': 20}, {'max_depth': 9, 'n_estimators': 5}, {'max_depth': 9, 'n_estimators': 10}, {'max_depth': 9, 'n_estimators': 15}, {'max_depth': 9, 'n_estimators': 20}], 'split0_test_score': array([0.45142857, 0.42571429, 0.34357143, 0.40428571, 0.62428571,\n",
      "       0.58214286, 0.635     , 0.62785714, 0.62785714, 0.61785714,\n",
      "       0.71785714, 0.71571429, 0.76785714, 0.76142857, 0.745     ,\n",
      "       0.77857143]), 'split1_test_score': array([0.38785714, 0.47857143, 0.43785714, 0.41928571, 0.52      ,\n",
      "       0.61      , 0.61785714, 0.63642857, 0.68428571, 0.71142857,\n",
      "       0.71142857, 0.70214286, 0.74785714, 0.765     , 0.75142857,\n",
      "       0.77214286]), 'split2_test_score': array([0.35928571, 0.36214286, 0.35785714, 0.43      , 0.51      ,\n",
      "       0.62571429, 0.60928571, 0.63285714, 0.67      , 0.72857143,\n",
      "       0.72571429, 0.74571429, 0.73642857, 0.73571429, 0.78      ,\n",
      "       0.79      ]), 'split3_test_score': array([0.44928571, 0.41      , 0.44285714, 0.43714286, 0.61428571,\n",
      "       0.61785714, 0.62571429, 0.65142857, 0.69714286, 0.70071429,\n",
      "       0.73285714, 0.72357143, 0.74357143, 0.76785714, 0.75785714,\n",
      "       0.77428571]), 'split4_test_score': array([0.40714286, 0.40214286, 0.33142857, 0.44214286, 0.57142857,\n",
      "       0.55357143, 0.65142857, 0.59357143, 0.68928571, 0.70642857,\n",
      "       0.69214286, 0.71142857, 0.76285714, 0.73714286, 0.77285714,\n",
      "       0.76642857]), 'split5_test_score': array([0.39785714, 0.38142857, 0.47785714, 0.40571429, 0.54857143,\n",
      "       0.64285714, 0.58714286, 0.64928571, 0.73142857, 0.70214286,\n",
      "       0.70142857, 0.70642857, 0.71714286, 0.76071429, 0.76714286,\n",
      "       0.76571429]), 'split6_test_score': array([0.40285714, 0.42857143, 0.37928571, 0.42785714, 0.58857143,\n",
      "       0.59214286, 0.59785714, 0.61357143, 0.62142857, 0.70285714,\n",
      "       0.73142857, 0.70571429, 0.73214286, 0.75857143, 0.75571429,\n",
      "       0.78285714]), 'split7_test_score': array([0.40428571, 0.45642857, 0.37785714, 0.44214286, 0.585     ,\n",
      "       0.63714286, 0.64071429, 0.60785714, 0.63642857, 0.70714286,\n",
      "       0.72142857, 0.70571429, 0.76142857, 0.78428571, 0.73      ,\n",
      "       0.8       ]), 'split8_test_score': array([0.41571429, 0.4       , 0.35      , 0.37785714, 0.53714286,\n",
      "       0.67357143, 0.65      , 0.64071429, 0.67928571, 0.695     ,\n",
      "       0.66357143, 0.73142857, 0.75642857, 0.75857143, 0.77714286,\n",
      "       0.78571429]), 'split9_test_score': array([0.39714286, 0.44642857, 0.39928571, 0.38928571, 0.61785714,\n",
      "       0.63928571, 0.62214286, 0.64857143, 0.71857143, 0.69428571,\n",
      "       0.73428571, 0.71928571, 0.76      , 0.78357143, 0.79571429,\n",
      "       0.77142857]), 'mean_test_score': array([0.40728571, 0.41914286, 0.38978571, 0.41757143, 0.57171429,\n",
      "       0.61742857, 0.62371429, 0.63021429, 0.67557143, 0.69664286,\n",
      "       0.71321429, 0.71671429, 0.74857143, 0.76128571, 0.76328571,\n",
      "       0.77871429]), 'std_test_score': array([0.02585635, 0.03347981, 0.04622819, 0.02132642, 0.03921708,\n",
      "       0.03278906, 0.02032341, 0.0185248 , 0.03533195, 0.02782975,\n",
      "       0.02111255, 0.01303919, 0.01537623, 0.01527904, 0.01816366,\n",
      "       0.01040408]), 'rank_test_score': array([15, 13, 16, 14, 12, 11, 10,  9,  8,  7,  6,  5,  4,  3,  2,  1])}\n"
     ]
    }
   ],
   "source": [
    "#Grid scorces\n",
    "print(grid_clf.cv_results_)"
   ]
  },
  {
   "cell_type": "code",
   "execution_count": 30,
   "id": "8b8d4457",
   "metadata": {},
   "outputs": [
    {
     "name": "stdout",
     "output_type": "stream",
     "text": [
      "0.7787142857142857\n"
     ]
    }
   ],
   "source": [
    "#Grid scores\n",
    "print(grid_clf.best_score_)\n",
    "#0.7787142857142857 - so worse than without parameters "
   ]
  },
  {
   "cell_type": "markdown",
   "id": "c481be80",
   "metadata": {},
   "source": [
    "### Attempt with other parameters"
   ]
  },
  {
   "cell_type": "code",
   "execution_count": 31,
   "id": "4761f7a2",
   "metadata": {},
   "outputs": [
    {
     "name": "stderr",
     "output_type": "stream",
     "text": [
      "C:\\Users\\daria\\anaconda3\\lib\\site-packages\\sklearn\\model_selection\\_split.py:680: UserWarning: The least populated class in y has only 7 members, which is less than n_splits=10.\n",
      "  warnings.warn(\n"
     ]
    },
    {
     "name": "stdout",
     "output_type": "stream",
     "text": [
      "RandomForestClassifier(max_depth=100, n_estimators=1000)\n",
      "0.9042857142857142\n"
     ]
    }
   ],
   "source": [
    "param_grid = {\n",
    "    'n_estimators': [20, 50, 100, 1000],\n",
    "     'max_depth': [10, 100, 500, 100]\n",
    "}\n",
    "\n",
    "grid_clf = GridSearchCV(clf, param_grid, cv=10, scoring = 'accuracy')\n",
    "grid_clf.fit(X_train, y_train)\n",
    "\n",
    "print(grid_clf.best_estimator_)\n",
    "print(grid_clf.best_score_)\n",
    "#RandomForestClassifier(max_depth=100, n_estimators=1000)\n",
    "#0.9042857142857142"
   ]
  },
  {
   "cell_type": "code",
   "execution_count": null,
   "id": "b51dbbec",
   "metadata": {},
   "outputs": [
    {
     "name": "stderr",
     "output_type": "stream",
     "text": [
      "C:\\Users\\daria\\anaconda3\\lib\\site-packages\\sklearn\\model_selection\\_split.py:680: UserWarning: The least populated class in y has only 7 members, which is less than n_splits=10.\n",
      "  warnings.warn(\n"
     ]
    }
   ],
   "source": [
    "param_grid = {\n",
    "    'n_estimators': [1000, 2000],\n",
    "     'max_depth': [100, 200, 500]\n",
    "}\n",
    "\n",
    "grid_clf = GridSearchCV(clf, param_grid, cv=10, scoring = 'accuracy')\n",
    "grid_clf.fit(X_train, y_train)\n",
    "\n",
    "print(grid_clf.best_estimator_)\n",
    "print(grid_clf.best_score_)"
   ]
  }
 ],
 "metadata": {
  "kernelspec": {
   "display_name": "Python 3 (ipykernel)",
   "language": "python",
   "name": "python3"
  },
  "language_info": {
   "codemirror_mode": {
    "name": "ipython",
    "version": 3
   },
   "file_extension": ".py",
   "mimetype": "text/x-python",
   "name": "python",
   "nbconvert_exporter": "python",
   "pygments_lexer": "ipython3",
   "version": "3.9.7"
  }
 },
 "nbformat": 4,
 "nbformat_minor": 5
}
