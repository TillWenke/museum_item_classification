{
 "cells": [
  {
   "cell_type": "markdown",
   "metadata": {},
   "source": [
    "# Imports & Settings\n"
   ]
  },
  {
   "cell_type": "code",
   "execution_count": 2,
   "metadata": {},
   "outputs": [],
   "source": [
    "# Imports\n",
    "import pandas as pd\n",
    "import numpy as np\n",
    "from matplotlib import pyplot as plt\n",
    "from deep_translator import GoogleTranslator\n",
    "import re \n",
    "from math import isnan\n",
    "import utilities\n",
    "import helpers\n",
    "\n",
    "pd.set_option(\"display.max_columns\", None)\n",
    "pd.set_option(\"display.max_colwidth\", None)\n",
    "pd.set_option('display.max_rows', None)\n",
    "pd.set_option('display.max_seq_items', None)"
   ]
  },
  {
   "cell_type": "code",
   "execution_count": 3,
   "metadata": {},
   "outputs": [],
   "source": [
    "# dtype={'type': str} prevents being confused with data type for large data sets\n",
    "train = pd.read_csv('data/train.csv', index_col='id', dtype={'type': str})\n",
    "test = pd.read_csv('data/test.csv', index_col='id', dtype={'type': str})\n",
    "train_translated = pd.read_csv('data/train_translated.csv', dtype={'type': str})\n",
    "test_translated = pd.read_csv('data/test_translated.csv', index_col='id', dtype={'type': str})\n",
    "combined_data = pd.read_csv('data/combined_data.csv', index_col='id', dtype={'type': str})\n",
    "combined_data_translated = pd.read_csv('data/combined_data_translated.csv', index_col='id', dtype={'type': str})\n",
    "combined_data_fully_translated = pd.read_csv('data/combined_data_fully_translated.csv', index_col='id', dtype={'type': str})\n",
    "prep = pd.read_csv('data/prep.csv', index_col='id', dtype={'type': str})\n",
    "test_prep = pd.read_csv('data/test_prepared.csv', index_col='id', dtype={'type': str})\n",
    "train_prep = pd.read_csv('data/train_prepared.csv', index_col='id', dtype={'type': str})\n",
    "low = pd.read_csv('data/prep_low_thres.csv', index_col='id', dtype={'type': str})\n",
    "high = pd.read_csv('data/prep_high_thres.csv', index_col='id', dtype={'type': str})"
   ]
  },
  {
   "cell_type": "markdown",
   "metadata": {},
   "source": [
    "# Delete unneeded features\n"
   ]
  },
  {
   "cell_type": "code",
   "execution_count": 9,
   "metadata": {},
   "outputs": [],
   "source": [
    "data = prep.copy()"
   ]
  },
  {
   "cell_type": "code",
   "execution_count": 13,
   "metadata": {},
   "outputs": [],
   "source": [
    "data.drop(columns=['full_nr', 'name','commentary','country_and_unit','text','parameter','unit','value','legend','initial_info','additional_text'], inplace=True)"
   ]
  },
  {
   "cell_type": "code",
   "execution_count": 15,
   "metadata": {},
   "outputs": [],
   "source": [
    "data.to_csv('data/prep.csv')"
   ]
  },
  {
   "cell_type": "code",
   "execution_count": 11,
   "metadata": {},
   "outputs": [],
   "source": [
    "data = prep.copy()"
   ]
  },
  {
   "cell_type": "code",
   "execution_count": 12,
   "metadata": {},
   "outputs": [],
   "source": [
    "data.drop(columns=['film frame IN mm²', 'photo format IN mm²', 'negative format IN mm²', 'text_features'], inplace=True)"
   ]
  },
  {
   "cell_type": "code",
   "execution_count": 13,
   "metadata": {},
   "outputs": [],
   "source": [
    "data.to_csv('data/prep.csv')"
   ]
  },
  {
   "cell_type": "markdown",
   "metadata": {},
   "source": [
    "# rename for xgboost"
   ]
  },
  {
   "cell_type": "code",
   "execution_count": 6,
   "metadata": {},
   "outputs": [],
   "source": [
    "data = high.copy()"
   ]
  },
  {
   "cell_type": "code",
   "execution_count": 7,
   "metadata": {},
   "outputs": [],
   "source": [
    "data.rename(columns={'location_määramata [Narva-Jõesuu]':'location_määramata (Narva-Jõesuu)', 'location_määramata [Tallinn]':'location_määramata (Tallinn)', 'location_määramata [Tartu]':'location_määramata (Tartu)', 'location_määramata [Raplamaa]':'location_määramata (Raplamaa)'}, inplace=True)"
   ]
  },
  {
   "cell_type": "code",
   "execution_count": 5,
   "metadata": {},
   "outputs": [],
   "source": [
    "data.to_csv('data/prep_high_thres.csv')"
   ]
  },
  {
   "cell_type": "code",
   "execution_count": 11,
   "metadata": {},
   "outputs": [],
   "source": [
    "data = low.copy()"
   ]
  },
  {
   "cell_type": "code",
   "execution_count": 12,
   "metadata": {},
   "outputs": [],
   "source": [
    "for i in data.columns:\n",
    "    if '>' in i:\n",
    "        data.rename(columns={i:i.replace('>','')}, inplace=True)\n",
    "for i in data.columns:\n",
    "    if '<' in i:\n",
    "        data.rename(columns={i:i.replace('<','')}, inplace=True)"
   ]
  },
  {
   "cell_type": "code",
   "execution_count": 13,
   "metadata": {},
   "outputs": [],
   "source": [
    "data.to_csv('data/prep_low_thres.csv')"
   ]
  },
  {
   "cell_type": "markdown",
   "metadata": {},
   "source": [
    "# Nan ->0"
   ]
  },
  {
   "cell_type": "code",
   "execution_count": 7,
   "metadata": {},
   "outputs": [
    {
     "name": "stdout",
     "output_type": "stream",
     "text": [
      "0\n",
      "              ks  musealia_seria_nr  musealia_queue_nr  collection_queue_nr  \\\n",
      "id                                                                            \n",
      "232170     118.0            12150.0              115.0                 44.0   \n",
      "2251378    102.0            12584.0               19.0                  1.0   \n",
      "2070466      0.0                0.0                0.0                 52.0   \n",
      "4085096  41691.0                0.0                0.0                  0.0   \n",
      "2697904    238.0             9424.0                0.0                  1.0   \n",
      "...          ...                ...                ...                  ...   \n",
      "3035795     10.0             5429.0                0.0                  3.0   \n",
      "2765287      0.0            12656.0               13.0                 13.0   \n",
      "2416520    429.0             8293.0                0.0                435.0   \n",
      "2327407    580.0            29884.0                0.0               5037.0   \n",
      "2781747  13349.0                0.0                0.0                  3.0   \n",
      "\n",
      "         element_count            type source  material_Polish  \\\n",
      "id                                                               \n",
      "232170             1.0           medal  train                0   \n",
      "2251378            1.0           photo  train                0   \n",
      "2070466            1.0           photo  train                0   \n",
      "4085096            1.0  photo negative  train                0   \n",
      "2697904            1.0          letter  train                0   \n",
      "...                ...             ...    ...              ...   \n",
      "3035795            1.0               0   test                0   \n",
      "2765287            1.0               0   test                0   \n",
      "2416520            1.0               0   test                0   \n",
      "2327407            1.0               0   test                0   \n",
      "2781747            1.0               0   test                0   \n",
      "\n",
      "         material_RC Photo Paper  material_acetate cellulose film  ...  \\\n",
      "id                                                                 ...   \n",
      "232170                         0                                0  ...   \n",
      "2251378                        0                                0  ...   \n",
      "2070466                        0                                0  ...   \n",
      "4085096                        0                                0  ...   \n",
      "2697904                        0                                0  ...   \n",
      "...                          ...                              ...  ...   \n",
      "3035795                        0                                0  ...   \n",
      "2765287                        0                                0  ...   \n",
      "2416520                        0                                0  ...   \n",
      "2327407                        0                                0  ...   \n",
      "2781747                        0                                0  ...   \n",
      "\n",
      "         event_type_has_a_value  musealia_additional_nr_has_a_value  \\\n",
      "id                                                                    \n",
      "232170                        1                                   0   \n",
      "2251378                       1                                   0   \n",
      "2070466                       0                                   0   \n",
      "4085096                       1                                   0   \n",
      "2697904                       0                                   0   \n",
      "...                         ...                                 ...   \n",
      "3035795                       1                                   0   \n",
      "2765287                       1                                   0   \n",
      "2416520                       1                                   0   \n",
      "2327407                       0                                   0   \n",
      "2781747                       1                                   0   \n",
      "\n",
      "         is_original_has_a_value  class_has_a_value  museum_abbr_has_a_value  \\\n",
      "id                                                                             \n",
      "232170                         1                  0                        1   \n",
      "2251378                        0                  0                        1   \n",
      "2070466                        0                  0                        1   \n",
      "4085096                        1                  0                        1   \n",
      "2697904                        1                  0                        1   \n",
      "...                          ...                ...                      ...   \n",
      "3035795                        1                  0                        1   \n",
      "2765287                        1                  0                        1   \n",
      "2416520                        1                  0                        1   \n",
      "2327407                        0                  0                        1   \n",
      "2781747                        1                  0                        1   \n",
      "\n",
      "         color_has_a_value  collection_mark_has_a_value  state_has_a_value  \\\n",
      "id                                                                           \n",
      "232170                   1                            1                  1   \n",
      "2251378                  0                            1                  1   \n",
      "2070466                  0                            1                  1   \n",
      "4085096                  0                            1                  1   \n",
      "2697904                  0                            1                  1   \n",
      "...                    ...                          ...                ...   \n",
      "3035795                  0                            1                  1   \n",
      "2765287                  0                            1                  1   \n",
      "2416520                  0                            1                  1   \n",
      "2327407                  0                            1                  1   \n",
      "2781747                  0                            1                  1   \n",
      "\n",
      "         technique_has_a_value  material_has_a_value  \n",
      "id                                                    \n",
      "232170                       0                     1  \n",
      "2251378                      0                     1  \n",
      "2070466                      0                     0  \n",
      "4085096                      0                     1  \n",
      "2697904                      1                     1  \n",
      "...                        ...                   ...  \n",
      "3035795                      1                     1  \n",
      "2765287                      0                     0  \n",
      "2416520                      0                     1  \n",
      "2327407                      0                     1  \n",
      "2781747                      1                     1  \n",
      "\n",
      "[20000 rows x 809 columns]\n"
     ]
    }
   ],
   "source": [
    "data = prep.copy()\n",
    "\n",
    "#for col in data.columns:\n",
    " #   if col.hasnan:\n",
    "  #      data[col] = data[col].replace(np.nan, 0)\n",
    "\n",
    "data = data.replace(np.nan, 0)\n",
    "print (data.isnull().sum().sum())\n",
    "print (data)"
   ]
  },
  {
   "cell_type": "code",
   "execution_count": 8,
   "metadata": {},
   "outputs": [],
   "source": [
    "data.to_csv('data/prep.csv')"
   ]
  },
  {
   "cell_type": "markdown",
   "metadata": {},
   "source": [
    "# remove un-thresholded features\n"
   ]
  },
  {
   "cell_type": "code",
   "execution_count": 6,
   "metadata": {},
   "outputs": [],
   "source": [
    "data = low.copy()"
   ]
  },
  {
   "cell_type": "code",
   "execution_count": 7,
   "metadata": {},
   "outputs": [
    {
     "name": "stdout",
     "output_type": "stream",
     "text": [
      "82 columns found that start with technique_\n",
      "84 columns found that start with material_\n",
      "74 columns found that start with location_\n"
     ]
    }
   ],
   "source": [
    "tech = helpers.col_collection(data, 'technique_')\n",
    "mat = helpers.col_collection(data, 'material_')\n",
    "loc = helpers.col_collection(data, 'location_')\n",
    "cols = tech + mat + loc"
   ]
  },
  {
   "cell_type": "code",
   "execution_count": null,
   "metadata": {},
   "outputs": [],
   "source": [
    "for col in cols:\n",
    "    if data[col].sum() < 2:\n",
    "        data.drop(columns=[col], inplace=True)"
   ]
  },
  {
   "cell_type": "markdown",
   "metadata": {},
   "source": [
    "# resplit test/train\n"
   ]
  },
  {
   "cell_type": "code",
   "execution_count": 10,
   "metadata": {},
   "outputs": [],
   "source": [
    "data = prep.copy()"
   ]
  },
  {
   "cell_type": "code",
   "execution_count": 11,
   "metadata": {},
   "outputs": [],
   "source": [
    "train = data.loc[data['source']=='train'].drop('source',axis=1)\n",
    "test = data.loc[data['source']=='test'].drop('source',axis=1)"
   ]
  },
  {
   "cell_type": "code",
   "execution_count": 12,
   "metadata": {},
   "outputs": [],
   "source": [
    "train.to_csv('data/train_prepared.csv')\n",
    "test.to_csv('data/test_prepared.csv')"
   ]
  }
 ],
 "metadata": {
  "kernelspec": {
   "display_name": "Python 3.10.6 64-bit",
   "language": "python",
   "name": "python3"
  },
  "language_info": {
   "codemirror_mode": {
    "name": "ipython",
    "version": 3
   },
   "file_extension": ".py",
   "mimetype": "text/x-python",
   "name": "python",
   "nbconvert_exporter": "python",
   "pygments_lexer": "ipython3",
   "version": "3.10.6"
  },
  "orig_nbformat": 4,
  "vscode": {
   "interpreter": {
    "hash": "916dbcbb3f70747c44a77c7bcd40155683ae19c65e1c03b4aa3499c5328201f1"
   }
  }
 },
 "nbformat": 4,
 "nbformat_minor": 2
}
