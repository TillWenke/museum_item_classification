{
 "cells": [
  {
   "cell_type": "code",
   "execution_count": null,
   "metadata": {},
   "outputs": [],
   "source": [
    "# one hot encode the target variable"
   ]
  },
  {
   "cell_type": "code",
   "execution_count": 2,
   "metadata": {},
   "outputs": [],
   "source": [
    "# Imports\n",
    "import pandas as pd\n",
    "import numpy as np\n",
    "from matplotlib import pyplot as plt\n",
    "#from googletrans import Translator\n",
    "from translate import Translator\n",
    "from deep_translator import GoogleTranslator\n",
    "pd.set_option(\"display.max_columns\", None)"
   ]
  },
  {
   "cell_type": "code",
   "execution_count": 18,
   "metadata": {},
   "outputs": [],
   "source": [
    "train = pd.read_csv('data/train_translated.csv')"
   ]
  },
  {
   "cell_type": "code",
   "execution_count": 4,
   "metadata": {},
   "outputs": [],
   "source": [
    "# suffisticated approach for translation\n",
    "def translate(data, column):\n",
    "    original = data[column].dropna().unique()\n",
    "    translated = [GoogleTranslator(source='et', target='en').translate(word) for word in original]\n",
    "    print('done')\n",
    "    data[column] = data[column].replace(original, translated)"
   ]
  },
  {
   "cell_type": "code",
   "execution_count": 5,
   "metadata": {},
   "outputs": [
    {
     "name": "stdout",
     "output_type": "stream",
     "text": [
      "done\n"
     ]
    }
   ],
   "source": [
    "translate(train, 'state')"
   ]
  },
  {
   "cell_type": "code",
   "execution_count": 19,
   "metadata": {},
   "outputs": [
    {
     "data": {
      "text/plain": [
       "array([nan, 'Black and white framed slide.', 'Polish',\n",
       "       'Black and white negative', 'Black and white negative.',\n",
       "       \"I'm tying\", 'blue', 'glass negative', 'white', 'Stain',\n",
       "       'Black and white negative (silver gelatin emulsion).', 'checkered',\n",
       "       'with a light brown glaze',\n",
       "       'flat, two wide furrow ribbon (1.1 x 0.15cm); cut ends occasionally compressed; double rows of triangular pits in furrows',\n",
       "       'cotton', 'photo postcard', 'the poster is in Russian', 'handle',\n",
       "       'orange', 'Washcloth', 'yellowed white', 'color slide',\n",
       "       'See no. 265:12.',\n",
       "       'with a square frame, with a double loop at each corner; open loops in three corners, closed in one; on the back side, 2 fastening loops and a groove created by casting through them.',\n",
       "       'printed on paper', 'Photo pasted on cardboard.', 'Color slide.',\n",
       "       'with large rings, three-membered; the cross section of the rings is rectangular (4 x 7mm) and Ø 4.5-4.8cm; 2 large members are connected with an S-shaped intermediate link; both the intermediate link and the main shafts are square in cross-section,',\n",
       "       'jagged collar on part of the neck',\n",
       "       'Black and white negative (silver gelatin emulsion)',\n",
       "       'sealing varnish', 'Glass negative', 'Agfa-Lupex',\n",
       "       'from a rather heavy collar with a flat-convex cut, the preserved end of which has been sharply cut off and worn much thinner compared to the middle of the collar',\n",
       "       \"open, with a convex-triangular cross-section, tapering towards the ends; the distance between the ends is 2.0 cm; in the middle part, on both sides of the crest, a wolf's tooth is used as an ornament, from there, towards the ends, a geometric ornament of grooves and dashes follows; surfaces damaged.\",\n",
       "       'White Red', 'pen', 'Color slide',\n",
       "       'Black and white slide (reverse negative)',\n",
       "       'Photo background cardboard', 'Photo emulsion on a glass plate.',\n",
       "       'marble base', 'Agfa', 'silk',\n",
       "       'narrow (0.35 cm) bronze ribbon; 3 threads; tips tapering and ornamented with transverse veins more than 1 cm long.',\n",
       "       'covered slat',\n",
       "       'broken; a low small bowl, with a rather rounded body and a slight flattening at the bottom, the curved shoulder is ornamented, a vertical straight edge of the dish rises from the shoulder; 2 lines on border of shoulder and edge; one line 0.7 cm below them, a wide line gap decorated with a double zigzag line; the surfaces of the dishes are carefully smoothed; the color is gray and brown mottled on the outer surface, the inner surface is brick-colored reddish; the composition is very fine, darker-grained sand; bottom layer approx. 6.5 cm in diameter; 5 fragments have survived.',\n",
       "       'PERF 133', 'Background cardboard', 'black and white photo',\n",
       "       'Glass negative.',\n",
       "       'oval in shape, with loose, sharply cut ends; braided from three wires with a round cross-section (Ø=0.2cm).',\n",
       "       'color slide.',\n",
       "       'a 4.3 cm long piece of the blade of a larger knife.', 'varnished',\n",
       "       'Sealing varnish',\n",
       "       'rectangular in cross-section, flattening towards the tip; broken at the point where the round cross-section point part begins.',\n",
       "       'Toned photo.', 'patinated', 'poster in Estonian and Russian',\n",
       "       'ornamented with shallow grooves on edges and top; on one side, a rivet extending from one edge hole to another has been preserved.',\n",
       "       'like no. 349:278-279; dimensions 1.9 x 2.1 cm;', '1.46 g',\n",
       "       'in print', 'pasted on cardboard', 'black, lids',\n",
       "       'both sherds of well-fired hand-moulded ware, unadorned;\\na) medium coarse sand in composition, slightly cracked surfaces, brownish and gray in color;\\nb) with a slightly finer composition than the previous one, surfaces with good processing, brown and gray in color; e.-v. triangular in shape',\n",
       "       'photo on cardboard', 'cardboard covers',\n",
       "       'Photo emulsion on a glass plate', 'cardboard slide frame. 5x5cm.',\n",
       "       'Photo paper Agfa-Brovira', 'the poster is in Russian and Latvian',\n",
       "       'quality PROOF', 'the poster is in Estonian',\n",
       "       'with long roller ends (1.6cm; Ø=0.6cm), with a rectangular arch (0.6x0.3cm), which is embellished on the surface with a rather robust notch between the grooves; flat dropper tip widening at 45° (2.0cm; Ø=1.0cm); embellished with a similar line of dots running from the heel to the middle of the needle (surface partially crumbled); slightly oval arc Ø=6.0cm; dropper length 6.6cm.',\n",
       "       'the head', 'Agfa Brovia', 'green', 'Black and white slide.',\n",
       "       'reddish purple',\n",
       "       'tiny, twisted from thin bronze wire with a circular cross-section; the ends are rolled back in the form of a loop.',\n",
       "       'small, massive, with a 6-sided arch; massive head shield disc-shaped; the end of the arch rests on the center of the main disk; half of the spiral is missing, the other half with the needle remains; with a fixed needle holder.',\n",
       "       'a piece missing from one edge.',\n",
       "       'twisted together from a loose piece of sheet metal; deformed and edges slightly broken;',\n",
       "       'a band at the end of a round egg',\n",
       "       'button borders for decoration', 'Pasted on cardboard',\n",
       "       'flat-convex, 0.35cm wide braid, 3.1 turns, slightly deformed.',\n",
       "       'ties kapron: 42 pcs.',\n",
       "       'bodice on the part and short puff sleeves on the sleeves',\n",
       "       'a long knife with a curved back; the transition from swedish to blade without a sharp escarpment; slightly broken at the tip of the blade.',\n",
       "       'pasted on the base paper',\n",
       "       'the so-called Finnish type collar like no. 355; vol. from an ornamented end;',\n",
       "       'pink', 'Sweden, 1641.', 'Slide frame. 5x5cm',\n",
       "       'from a rod with a flat-convex section (in fact, a very weak internal concavity is felt); ends abruptly cut off and ornamented with two transverse lines;',\n",
       "       'flat disc, hole Ø=0.5cm.', 'yellow', 'colored pencil',\n",
       "       'with a square extension under the head; hole through extension; needle tip broken; cross-headed (?) needle.',\n",
       "       'ribbon', 'black and white halls', 'AGFA', 'stain',\n",
       "       '3.2 turns of flat-curved, 0.3 cm wide and 0.1 cm thick wick; ends tapering and serrated.',\n",
       "       'lids', 'photo pasted on stronger base paper (cardboard)', 'black',\n",
       "       'medium thickness wire with an oval cross-section; 1 1/3 turns; one end broken, the other blunt;',\n",
       "       '0.91 g', 'glued to the base cardboard', 'Agfa Isopan F', '1.19 g',\n",
       "       'drawing on paper', 'purple', '1.27 g',\n",
       "       'one end twisted into a spiral, the other expands into a rectangular shape, central part Ø=0.2cm, round in section',\n",
       "       'a) semi-arc shaped piece, 0.15 cm thick wicker, variable width 1.0-1.2 cm;\\nb) vague ctk.',\n",
       "       'threads',\n",
       "       'flat-convex cut; almost 2 threads; whole end with ornamented cross lines, poorly preserved;',\n",
       "       'linear', 'black and white reverse negative',\n",
       "       'from a wide flat wick (0.7 x 0.1 cm) with tapering ends; 2.5 twists; furrows at the edges of the wider end; slightly deformed',\n",
       "       'Fujicolor', 'Ark hinges', 'decorative strips',\n",
       "       'Photo emulsion applied to a glass plate.',\n",
       "       'Killing of Riga, Johan III', '9 CBEMA 01.92.',\n",
       "       'a) item no. e.-v. triangular in shape, piece of stud(?);\\nb) triangular-shaped ornament consisting of eyeballs and three rows of stud lines on one side, ornament worn, bracelet v. piece of ring;\\nc) loose, with compressed ends, of 0.2 cm thick round wire',\n",
       "       'Denim photo on the back Agfa Quality paper',\n",
       "       'in the background of the drawing',\n",
       "       'ct. of hollow-convex cut tin rings; deformed almost formless in a strong fire; quite wide (more than 1 cm)',\n",
       "       '1.42 g',\n",
       "       'hemispherical; in one place a piece broken out to the edge;',\n",
       "       'Kodak', 'Yellow paper',\n",
       "       'from the massive, wide so-called Saaremaa-type necklace; decorated with concentric circles.',\n",
       "       'hand-moulded, well-fired, medium-thick, brown-faced, unornamented ware',\n",
       "       'school notebook cover',\n",
       "       'small, with gold foil turned purple; the upper layer of glass has come off in several places.',\n",
       "       'Wood chips',\n",
       "       '18 fragments; side and edge pieces; mostly brown-burnt, coarse clay',\n",
       "       'Cloth.', 'with stickers', 'Slide frame (5x5 cm).', '0.94 g',\n",
       "       'With large riveted buttons on the leg extensions at the head and at the bottom of the leg; with axle tube; needle relatively short; needle holder broken; oxide coated.',\n",
       "       'the curved tip of a curved-edged beard or sable blade; blade with a wedge-shaped cut;',\n",
       "       'a) trapezoidal plate, length 8.2cm, width at the widest end 4.2cm, narrower broken end 2.2cm, thickness 0.3cm; 2 rivet holes at the wider end.\\nb) rectangular 6.7 x 1.7 cm, 0.3 cm thick plate slightly widening at one broken end; vol. 247:7a) side.',\n",
       "       '11 pcs.\\nmostly tin strips or thin strips with a flat-convex cut, originating from a variety of bracelets; 3-4 pcs. bear strong traces of fire; one of them - on a strip 0.8 cm wide, there is an ornament of double concentric circles located in a row (3 pcs.);',\n",
       "       'red paper', 'Colorful.',\n",
       "       '3 fragments; dark, with a coarse composition.',\n",
       "       'arrowhead(?) with tube (Ø1.3cm), rhomboid blade; heavily damaged by rust',\n",
       "       'black paper',\n",
       "       'a short piece of iron axle with 2 turns of bronze wire; the extreme whorl branches into a tension with a flat-convex cut, which is broken into two pieces; vol. comes from a larger sieve',\n",
       "       'from thin (0.05cm) pr. from tin; edges turned back twice; the surface is concave, in the middle there are 5 raised lumps (Ø 0.5cm), 2 of them are broken',\n",
       "       'slide frame', 'Photo paper Konica Long Life 100',\n",
       "       'slide frame (5x5 cm).', 'from red', 'the bottom of the dress',\n",
       "       'hard cardboard covers and metal plate', '1.36 g',\n",
       "       \"alternately with ends; 6 mm wide bronze ribbon; ends stylized as serpent's head; entire wreath ornamented; a line at the edges of the ribbon, an uninterrupted row of small circles between the lines; ends separated by two transverse lines and ornamented with 3 small circles.\",\n",
       "       'with late \"nail-head ends\", with a diamond-shaped cross-section; the length of the dropper with a wide heel is 6.1 cm.',\n",
       "       '1.69 g',\n",
       "       'hollow-triangular cut; closed; ornamented with narrow grooves on both edges and on both sides of crest; in the extreme grooves weak semi-oblique stippling, crest semi-oblique stippled so as to resemble a rope.',\n",
       "       'light purple',\n",
       "       'oblong, with wavy irregular edges, openwork; the image of a stylized animal with holes and openings; with faint traces of silver plating.',\n",
       "       'Cloth, thread.', 'white, purple, green', 'photo paper: Mimosa',\n",
       "       'loose, flat-curved 0.35cm wide cord.',\n",
       "       'of a double-edged sword; deformed from the fracture site, covered with a backing layer',\n",
       "       'can be from a large knife, one edge sharp', 'slide frame.',\n",
       "       'straight back;', 'reddish-pink'], dtype=object)"
      ]
     },
     "execution_count": 19,
     "metadata": {},
     "output_type": "execute_result"
    }
   ],
   "source": [
    "train.commentary.unique()"
   ]
  }
 ],
 "metadata": {
  "kernelspec": {
   "display_name": "Python 3.10.6 64-bit",
   "language": "python",
   "name": "python3"
  },
  "language_info": {
   "codemirror_mode": {
    "name": "ipython",
    "version": 3
   },
   "file_extension": ".py",
   "mimetype": "text/x-python",
   "name": "python",
   "nbconvert_exporter": "python",
   "pygments_lexer": "ipython3",
   "version": "3.10.6"
  },
  "orig_nbformat": 4,
  "vscode": {
   "interpreter": {
    "hash": "916dbcbb3f70747c44a77c7bcd40155683ae19c65e1c03b4aa3499c5328201f1"
   }
  }
 },
 "nbformat": 4,
 "nbformat_minor": 2
}
