{
 "cells": [
  {
   "cell_type": "code",
   "execution_count": 1,
   "metadata": {},
   "outputs": [],
   "source": [
    "from setup_general import *"
   ]
  },
  {
   "cell_type": "code",
   "execution_count": 2,
   "metadata": {},
   "outputs": [],
   "source": [
    "train = train_est_prepared\n",
    "val = val_est_prepared\n",
    "\n",
    "X_train = train.drop('type', axis=1)\n",
    "y_train = train['type']\n",
    "X_test = val.drop('type', axis=1)\n",
    "y_test = val['type']"
   ]
  },
  {
   "cell_type": "code",
   "execution_count": 3,
   "metadata": {},
   "outputs": [
    {
     "data": {
      "text/plain": [
       "1015"
      ]
     },
     "execution_count": 3,
     "metadata": {},
     "output_type": "execute_result"
    }
   ],
   "source": [
    "len(X_train.columns)"
   ]
  },
  {
   "cell_type": "code",
   "execution_count": 4,
   "metadata": {},
   "outputs": [
    {
     "name": "stdout",
     "output_type": "stream",
     "text": [
      "0.9888775510204082 0.8954761904761904\n"
     ]
    }
   ],
   "source": [
    "rfc = RandomForestClassifier(n_estimators=500, random_state=0)\n",
    "rfc.fit(X_train, y_train)\n",
    "\n",
    "y_pred = rfc.predict(X_test)\n",
    "probs = rfc.predict_proba(X_test)\n",
    "val_acc = accuracy_score(y_test, y_pred)\n",
    "\n",
    "y_pred = rfc.predict(X_train)\n",
    "probs = rfc.predict_proba(X_train)\n",
    "train_acc = accuracy_score(y_train, y_pred)\n",
    "\n",
    "print(train_acc, val_acc)\n",
    "\n",
    "# est\n",
    "#0.8926190476190476 5\n",
    "#0.895 6\n",
    "# 0.8983333333333333 7\n",
    "# 0.8971428571428571 7 start & 8 start -> 7 best\n",
    "# 0.8976190476190476 0.99\n",
    "# 0.8988095238095238 0.98 <---\n",
    "# 0.8983333333333333 0.97\n",
    "# 0.8954761904761904 0.96\n",
    "\n"
   ]
  }
 ],
 "metadata": {
  "kernelspec": {
   "display_name": "Python 3",
   "language": "python",
   "name": "python3"
  },
  "language_info": {
   "codemirror_mode": {
    "name": "ipython",
    "version": 3
   },
   "file_extension": ".py",
   "mimetype": "text/x-python",
   "name": "python",
   "nbconvert_exporter": "python",
   "pygments_lexer": "ipython3",
   "version": "3.10.6 (main, Nov 14 2022, 16:10:14) [GCC 11.3.0]"
  },
  "orig_nbformat": 4,
  "vscode": {
   "interpreter": {
    "hash": "916dbcbb3f70747c44a77c7bcd40155683ae19c65e1c03b4aa3499c5328201f1"
   }
  }
 },
 "nbformat": 4,
 "nbformat_minor": 2
}
